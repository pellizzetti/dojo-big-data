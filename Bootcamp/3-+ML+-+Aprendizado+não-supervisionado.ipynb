{
 "cells": [
  {
   "cell_type": "markdown",
   "metadata": {},
   "source": [
    "# Aprendizado não-supervisionado"
   ]
  },
  {
   "cell_type": "markdown",
   "metadata": {},
   "source": [
    "## Nem sempre teremos uma variável alvo para estimar. Para esse tipo de problema temos os algoritmos de **Aprendizado Não-supervisionado**.\n",
    "\n",
    "### Aprendizado Não-supervisionado\n",
    "\n",
    "Os algoritmos de aprendizado não-supervisionado estão ainda divididos em dois grupos: Os algoritmos de clusterização (agrupamento) e os de redução de dimensão.\n",
    "\n",
    "Nessa aula iremos ver um algoritmo de cada tipo! \n",
    "\n",
    "Para desenvolver nossa aula, seremos apresentados a um novo *Dataset*, o Movielens!\n",
    "\n",
    "Depois de tratarmos o dataset novo iremos ver dois algoritmos de aprendizado não supervisionado: K-means e PCA\n",
    "\n",
    "## Dataset\n",
    "\n",
    "Vamos explorar esse novo *dataset*.\n",
    "\n",
    "Primeiro vamos carregar os dados\n"
   ]
  },
  {
   "cell_type": "code",
   "execution_count": 1,
   "metadata": {
    "scrolled": false
   },
   "outputs": [
    {
     "data": {
      "text/html": [
       "<div>\n",
       "<style>\n",
       "    .dataframe thead tr:only-child th {\n",
       "        text-align: right;\n",
       "    }\n",
       "\n",
       "    .dataframe thead th {\n",
       "        text-align: left;\n",
       "    }\n",
       "\n",
       "    .dataframe tbody tr th {\n",
       "        vertical-align: top;\n",
       "    }\n",
       "</style>\n",
       "<table border=\"1\" class=\"dataframe\">\n",
       "  <thead>\n",
       "    <tr style=\"text-align: right;\">\n",
       "      <th></th>\n",
       "      <th>id</th>\n",
       "      <th>title</th>\n",
       "      <th>release_date</th>\n",
       "      <th>imdb_url</th>\n",
       "      <th>user_id</th>\n",
       "      <th>item_id</th>\n",
       "      <th>rating</th>\n",
       "      <th>timestamp</th>\n",
       "      <th>age</th>\n",
       "      <th>sex</th>\n",
       "      <th>ocuppation</th>\n",
       "      <th>zip_code</th>\n",
       "      <th>faixa_etaria</th>\n",
       "      <th>genero</th>\n",
       "    </tr>\n",
       "  </thead>\n",
       "  <tbody>\n",
       "    <tr>\n",
       "      <th>0</th>\n",
       "      <td>1</td>\n",
       "      <td>Toy Story</td>\n",
       "      <td>01-Jan-1995</td>\n",
       "      <td>http://us.imdb.com/M/title-exact?Toy%20Story%2...</td>\n",
       "      <td>244</td>\n",
       "      <td>1</td>\n",
       "      <td>4</td>\n",
       "      <td>1997-11-27 04:20:05</td>\n",
       "      <td>28</td>\n",
       "      <td>M</td>\n",
       "      <td>technician</td>\n",
       "      <td>80525</td>\n",
       "      <td>20-29</td>\n",
       "      <td>Animation</td>\n",
       "    </tr>\n",
       "    <tr>\n",
       "      <th>1</th>\n",
       "      <td>1</td>\n",
       "      <td>Toy Story</td>\n",
       "      <td>01-Jan-1995</td>\n",
       "      <td>http://us.imdb.com/M/title-exact?Toy%20Story%2...</td>\n",
       "      <td>298</td>\n",
       "      <td>1</td>\n",
       "      <td>5</td>\n",
       "      <td>1998-01-06 22:34:21</td>\n",
       "      <td>44</td>\n",
       "      <td>M</td>\n",
       "      <td>executive</td>\n",
       "      <td>01581</td>\n",
       "      <td>40-49</td>\n",
       "      <td>Animation</td>\n",
       "    </tr>\n",
       "    <tr>\n",
       "      <th>2</th>\n",
       "      <td>1</td>\n",
       "      <td>Toy Story</td>\n",
       "      <td>01-Jan-1995</td>\n",
       "      <td>http://us.imdb.com/M/title-exact?Toy%20Story%2...</td>\n",
       "      <td>253</td>\n",
       "      <td>1</td>\n",
       "      <td>5</td>\n",
       "      <td>1998-04-03 18:34:27</td>\n",
       "      <td>26</td>\n",
       "      <td>F</td>\n",
       "      <td>librarian</td>\n",
       "      <td>22903</td>\n",
       "      <td>20-29</td>\n",
       "      <td>Animation</td>\n",
       "    </tr>\n",
       "    <tr>\n",
       "      <th>3</th>\n",
       "      <td>1</td>\n",
       "      <td>Toy Story</td>\n",
       "      <td>01-Jan-1995</td>\n",
       "      <td>http://us.imdb.com/M/title-exact?Toy%20Story%2...</td>\n",
       "      <td>305</td>\n",
       "      <td>1</td>\n",
       "      <td>5</td>\n",
       "      <td>1998-02-01 08:52:33</td>\n",
       "      <td>23</td>\n",
       "      <td>M</td>\n",
       "      <td>programmer</td>\n",
       "      <td>94086</td>\n",
       "      <td>20-29</td>\n",
       "      <td>Animation</td>\n",
       "    </tr>\n",
       "    <tr>\n",
       "      <th>4</th>\n",
       "      <td>1</td>\n",
       "      <td>Toy Story</td>\n",
       "      <td>01-Jan-1995</td>\n",
       "      <td>http://us.imdb.com/M/title-exact?Toy%20Story%2...</td>\n",
       "      <td>6</td>\n",
       "      <td>1</td>\n",
       "      <td>4</td>\n",
       "      <td>1997-12-31 20:17:58</td>\n",
       "      <td>42</td>\n",
       "      <td>M</td>\n",
       "      <td>executive</td>\n",
       "      <td>98101</td>\n",
       "      <td>40-49</td>\n",
       "      <td>Animation</td>\n",
       "    </tr>\n",
       "  </tbody>\n",
       "</table>\n",
       "</div>"
      ],
      "text/plain": [
       "   id       title release_date  \\\n",
       "0   1  Toy Story   01-Jan-1995   \n",
       "1   1  Toy Story   01-Jan-1995   \n",
       "2   1  Toy Story   01-Jan-1995   \n",
       "3   1  Toy Story   01-Jan-1995   \n",
       "4   1  Toy Story   01-Jan-1995   \n",
       "\n",
       "                                            imdb_url  user_id  item_id  \\\n",
       "0  http://us.imdb.com/M/title-exact?Toy%20Story%2...      244        1   \n",
       "1  http://us.imdb.com/M/title-exact?Toy%20Story%2...      298        1   \n",
       "2  http://us.imdb.com/M/title-exact?Toy%20Story%2...      253        1   \n",
       "3  http://us.imdb.com/M/title-exact?Toy%20Story%2...      305        1   \n",
       "4  http://us.imdb.com/M/title-exact?Toy%20Story%2...        6        1   \n",
       "\n",
       "   rating            timestamp  age sex  ocuppation zip_code faixa_etaria  \\\n",
       "0       4  1997-11-27 04:20:05   28   M  technician    80525        20-29   \n",
       "1       5  1998-01-06 22:34:21   44   M   executive    01581        40-49   \n",
       "2       5  1998-04-03 18:34:27   26   F   librarian    22903        20-29   \n",
       "3       5  1998-02-01 08:52:33   23   M  programmer    94086        20-29   \n",
       "4       4  1997-12-31 20:17:58   42   M   executive    98101        40-49   \n",
       "\n",
       "      genero  \n",
       "0  Animation  \n",
       "1  Animation  \n",
       "2  Animation  \n",
       "3  Animation  \n",
       "4  Animation  "
      ]
     },
     "execution_count": 1,
     "metadata": {},
     "output_type": "execute_result"
    }
   ],
   "source": [
    "import pandas\n",
    "movies = pandas.read_csv(\"movie_lens_completo.csv\")\n",
    "movies.head()"
   ]
  },
  {
   "cell_type": "markdown",
   "metadata": {},
   "source": [
    "Descrição dos dados:\n",
    "* id - identificador do filme\n",
    "* title - titulo do filme\n",
    "* release_date - data de lançamento do filme\n",
    "* imdb_url - url da página do IMDb do filme\n",
    "* user_id - id do usuário que fez a avaliação do filme\n",
    "* item_id - id do item avaliado\n",
    "* rating - avaliação do filme. Valor de 0 a 5\n",
    "* timestamp - data em que a avaliação foi feita\n",
    "* age - idade do usuário que avaliou \n",
    "* sex - gênero do usuário que avaliou\n",
    "* ocuppation - profissão do avaliador\n",
    "* zip_code - CEP do avaliador\n",
    "* faixa_etaria - faixa etária que o avaliador se encaixa (gerado no pre-processamento)"
   ]
  },
  {
   "cell_type": "markdown",
   "metadata": {},
   "source": [
    "Vamos **contar** os dados"
   ]
  },
  {
   "cell_type": "code",
   "execution_count": 2,
   "metadata": {},
   "outputs": [
    {
     "name": "stdout",
     "output_type": "stream",
     "text": [
      "Dados: 100000\n",
      "Movies: 1682\n",
      "Users: 943\n"
     ]
    }
   ],
   "source": [
    "qnt_dados = movies.shape[0]\n",
    "print(\"Dados: {}\".format(qnt_dados))\n",
    "\n",
    "qnt_movies = movies[\"id\"].unique().size\n",
    "print(\"Movies: {}\".format(qnt_movies))\n",
    "\n",
    "qnt_users = movies[\"user_id\"].unique().size\n",
    "print(\"Users: {}\".format(qnt_users))\n"
   ]
  },
  {
   "cell_type": "markdown",
   "metadata": {},
   "source": [
    "Vamos checar a **existência de dados nulos**"
   ]
  },
  {
   "cell_type": "code",
   "execution_count": 3,
   "metadata": {
    "scrolled": false
   },
   "outputs": [
    {
     "data": {
      "text/plain": [
       "id               0\n",
       "title            0\n",
       "release_date     9\n",
       "imdb_url        13\n",
       "user_id          0\n",
       "item_id          0\n",
       "rating           0\n",
       "timestamp        0\n",
       "age              0\n",
       "sex              0\n",
       "ocuppation       0\n",
       "zip_code         0\n",
       "faixa_etaria     0\n",
       "genero           0\n",
       "dtype: int64"
      ]
     },
     "execution_count": 3,
     "metadata": {},
     "output_type": "execute_result"
    }
   ],
   "source": [
    "movies.isnull().sum()"
   ]
  },
  {
   "cell_type": "markdown",
   "metadata": {},
   "source": [
    "Temos poucos dados nulos perto do conjunto. Então não vamos tratar agora os dados nulos.\n",
    "\n",
    "**Não podemos esquecer deles futuramente**"
   ]
  },
  {
   "cell_type": "markdown",
   "metadata": {},
   "source": [
    "Vamos ver a distribuição de `rating`"
   ]
  },
  {
   "cell_type": "code",
   "execution_count": 4,
   "metadata": {},
   "outputs": [
    {
     "data": {
      "text/plain": [
       "<matplotlib.axes._subplots.AxesSubplot at 0x7ff5ef9f14a8>"
      ]
     },
     "execution_count": 4,
     "metadata": {},
     "output_type": "execute_result"
    },
    {
     "data": {
      "image/png": "[encoded data removed]",
      "text/plain": [
       "<matplotlib.figure.Figure at 0x7ff5fa317940>"
      ]
     },
     "metadata": {},
     "output_type": "display_data"
    }
   ],
   "source": [
    "%matplotlib inline\n",
    "\n",
    "import seaborn as sns\n",
    "sns.distplot(movies[\"rating\"],bins=5,kde=False)"
   ]
  },
  {
   "cell_type": "markdown",
   "metadata": {},
   "source": [
    "Vamos fazer um boxplot para ver a distribuição das avaliações por sexo:"
   ]
  },
  {
   "cell_type": "code",
   "execution_count": 5,
   "metadata": {},
   "outputs": [
    {
     "data": {
      "text/plain": [
       "<matplotlib.axes._subplots.AxesSubplot at 0x7ff5ed6b4f60>"
      ]
     },
     "execution_count": 5,
     "metadata": {},
     "output_type": "execute_result"
    },
    {
     "data": {
      "image/png": "[encoded data removed]",
      "text/plain": [
       "<matplotlib.figure.Figure at 0x7ff64c100da0>"
      ]
     },
     "metadata": {},
     "output_type": "display_data"
    }
   ],
   "source": [
    "sns.boxplot(x=\"sex\", y=\"rating\",data=movies)"
   ]
  },
  {
   "cell_type": "markdown",
   "metadata": {},
   "source": [
    "A distribuição por sexo parece não variar muito."
   ]
  },
  {
   "cell_type": "markdown",
   "metadata": {},
   "source": [
    "## <font color='blue'>Vamos fazer o mesmo gráfico para as profissões com relação aos ratings!</font>\n",
    "![alt text](https://static.vix.com/pt/sites/default/files/styles/large/public/a/atrasada-relogio-pulso-1116-1400x800.jpg?itok=qv3gUH6U)"
   ]
  },
  {
   "cell_type": "code",
   "execution_count": 6,
   "metadata": {
    "scrolled": true
   },
   "outputs": [
    {
     "data": {
      "text/plain": [
       "<matplotlib.axes._subplots.AxesSubplot at 0x7ff5ed4940b8>"
      ]
     },
     "execution_count": 6,
     "metadata": {},
     "output_type": "execute_result"
    },
    {
     "data": {
      "image/png": "[encoded data removed]",
      "text/plain": [
       "<matplotlib.figure.Figure at 0x7ff5ed494208>"
      ]
     },
     "metadata": {},
     "output_type": "display_data"
    }
   ],
   "source": [
    "%matplotlib inline\n",
    "import matplotlib.pyplot as plt\n",
    "import seaborn as sns\n",
    "plt.figure(figsize=(15,8))\n",
    "plt.xticks(rotation=90)\n",
    "sns.boxplot(x=\"rating\", y=\"ocuppation\",data=movies)"
   ]
  },
  {
   "cell_type": "markdown",
   "metadata": {},
   "source": [
    "Vamos ver agora a **variação da idade por profissão**"
   ]
  },
  {
   "cell_type": "code",
   "execution_count": 7,
   "metadata": {},
   "outputs": [
    {
     "data": {
      "text/plain": [
       "<matplotlib.axes._subplots.AxesSubplot at 0x7ff5ed12a358>"
      ]
     },
     "execution_count": 7,
     "metadata": {},
     "output_type": "execute_result"
    },
    {
     "data": {
      "image/png": "[encoded data removed]",
      "text/plain": [
       "<matplotlib.figure.Figure at 0x7ff64c106ef0>"
      ]
     },
     "metadata": {},
     "output_type": "display_data"
    }
   ],
   "source": [
    "import matplotlib.pyplot as plt\n",
    "plt.xticks(rotation=90)\n",
    "\n",
    "sns.boxplot(x=\"ocuppation\", y=\"age\",data=movies)"
   ]
  },
  {
   "cell_type": "markdown",
   "metadata": {
    "collapsed": true
   },
   "source": [
    "Existe uma série de outras visualizações que podemos realizar com os dados. Entretanto iremos continuar para o tratamento dos dados.\n",
    "\n",
    "**Vamos transformar os valores das colunas `sex`, `ocuppation` e `genero` em colunas a partir do get_dummies**"
   ]
  },
  {
   "cell_type": "code",
   "execution_count": 8,
   "metadata": {
    "scrolled": true
   },
   "outputs": [
    {
     "data": {
      "text/html": [
       "<div>\n",
       "<style>\n",
       "    .dataframe thead tr:only-child th {\n",
       "        text-align: right;\n",
       "    }\n",
       "\n",
       "    .dataframe thead th {\n",
       "        text-align: left;\n",
       "    }\n",
       "\n",
       "    .dataframe tbody tr th {\n",
       "        vertical-align: top;\n",
       "    }\n",
       "</style>\n",
       "<table border=\"1\" class=\"dataframe\">\n",
       "  <thead>\n",
       "    <tr style=\"text-align: right;\">\n",
       "      <th></th>\n",
       "      <th>id</th>\n",
       "      <th>title</th>\n",
       "      <th>release_date</th>\n",
       "      <th>imdb_url</th>\n",
       "      <th>user_id</th>\n",
       "      <th>item_id</th>\n",
       "      <th>rating</th>\n",
       "      <th>timestamp</th>\n",
       "      <th>age</th>\n",
       "      <th>zip_code</th>\n",
       "      <th>...</th>\n",
       "      <th>genero_Film-Noir</th>\n",
       "      <th>genero_Horror</th>\n",
       "      <th>genero_Musical</th>\n",
       "      <th>genero_Mystery</th>\n",
       "      <th>genero_Romance</th>\n",
       "      <th>genero_Sci-Fi</th>\n",
       "      <th>genero_Thriller</th>\n",
       "      <th>genero_War</th>\n",
       "      <th>genero_Western</th>\n",
       "      <th>genero_unknown</th>\n",
       "    </tr>\n",
       "  </thead>\n",
       "  <tbody>\n",
       "    <tr>\n",
       "      <th>0</th>\n",
       "      <td>1</td>\n",
       "      <td>Toy Story</td>\n",
       "      <td>01-Jan-1995</td>\n",
       "      <td>http://us.imdb.com/M/title-exact?Toy%20Story%2...</td>\n",
       "      <td>244</td>\n",
       "      <td>1</td>\n",
       "      <td>4</td>\n",
       "      <td>1997-11-27 04:20:05</td>\n",
       "      <td>28</td>\n",
       "      <td>80525</td>\n",
       "      <td>...</td>\n",
       "      <td>0</td>\n",
       "      <td>0</td>\n",
       "      <td>0</td>\n",
       "      <td>0</td>\n",
       "      <td>0</td>\n",
       "      <td>0</td>\n",
       "      <td>0</td>\n",
       "      <td>0</td>\n",
       "      <td>0</td>\n",
       "      <td>0</td>\n",
       "    </tr>\n",
       "    <tr>\n",
       "      <th>1</th>\n",
       "      <td>1</td>\n",
       "      <td>Toy Story</td>\n",
       "      <td>01-Jan-1995</td>\n",
       "      <td>http://us.imdb.com/M/title-exact?Toy%20Story%2...</td>\n",
       "      <td>298</td>\n",
       "      <td>1</td>\n",
       "      <td>5</td>\n",
       "      <td>1998-01-06 22:34:21</td>\n",
       "      <td>44</td>\n",
       "      <td>01581</td>\n",
       "      <td>...</td>\n",
       "      <td>0</td>\n",
       "      <td>0</td>\n",
       "      <td>0</td>\n",
       "      <td>0</td>\n",
       "      <td>0</td>\n",
       "      <td>0</td>\n",
       "      <td>0</td>\n",
       "      <td>0</td>\n",
       "      <td>0</td>\n",
       "      <td>0</td>\n",
       "    </tr>\n",
       "    <tr>\n",
       "      <th>2</th>\n",
       "      <td>1</td>\n",
       "      <td>Toy Story</td>\n",
       "      <td>01-Jan-1995</td>\n",
       "      <td>http://us.imdb.com/M/title-exact?Toy%20Story%2...</td>\n",
       "      <td>253</td>\n",
       "      <td>1</td>\n",
       "      <td>5</td>\n",
       "      <td>1998-04-03 18:34:27</td>\n",
       "      <td>26</td>\n",
       "      <td>22903</td>\n",
       "      <td>...</td>\n",
       "      <td>0</td>\n",
       "      <td>0</td>\n",
       "      <td>0</td>\n",
       "      <td>0</td>\n",
       "      <td>0</td>\n",
       "      <td>0</td>\n",
       "      <td>0</td>\n",
       "      <td>0</td>\n",
       "      <td>0</td>\n",
       "      <td>0</td>\n",
       "    </tr>\n",
       "    <tr>\n",
       "      <th>3</th>\n",
       "      <td>1</td>\n",
       "      <td>Toy Story</td>\n",
       "      <td>01-Jan-1995</td>\n",
       "      <td>http://us.imdb.com/M/title-exact?Toy%20Story%2...</td>\n",
       "      <td>305</td>\n",
       "      <td>1</td>\n",
       "      <td>5</td>\n",
       "      <td>1998-02-01 08:52:33</td>\n",
       "      <td>23</td>\n",
       "      <td>94086</td>\n",
       "      <td>...</td>\n",
       "      <td>0</td>\n",
       "      <td>0</td>\n",
       "      <td>0</td>\n",
       "      <td>0</td>\n",
       "      <td>0</td>\n",
       "      <td>0</td>\n",
       "      <td>0</td>\n",
       "      <td>0</td>\n",
       "      <td>0</td>\n",
       "      <td>0</td>\n",
       "    </tr>\n",
       "    <tr>\n",
       "      <th>4</th>\n",
       "      <td>1</td>\n",
       "      <td>Toy Story</td>\n",
       "      <td>01-Jan-1995</td>\n",
       "      <td>http://us.imdb.com/M/title-exact?Toy%20Story%2...</td>\n",
       "      <td>6</td>\n",
       "      <td>1</td>\n",
       "      <td>4</td>\n",
       "      <td>1997-12-31 20:17:58</td>\n",
       "      <td>42</td>\n",
       "      <td>98101</td>\n",
       "      <td>...</td>\n",
       "      <td>0</td>\n",
       "      <td>0</td>\n",
       "      <td>0</td>\n",
       "      <td>0</td>\n",
       "      <td>0</td>\n",
       "      <td>0</td>\n",
       "      <td>0</td>\n",
       "      <td>0</td>\n",
       "      <td>0</td>\n",
       "      <td>0</td>\n",
       "    </tr>\n",
       "  </tbody>\n",
       "</table>\n",
       "<p>5 rows × 53 columns</p>\n",
       "</div>"
      ],
      "text/plain": [
       "   id       title release_date  \\\n",
       "0   1  Toy Story   01-Jan-1995   \n",
       "1   1  Toy Story   01-Jan-1995   \n",
       "2   1  Toy Story   01-Jan-1995   \n",
       "3   1  Toy Story   01-Jan-1995   \n",
       "4   1  Toy Story   01-Jan-1995   \n",
       "\n",
       "                                            imdb_url  user_id  item_id  \\\n",
       "0  http://us.imdb.com/M/title-exact?Toy%20Story%2...      244        1   \n",
       "1  http://us.imdb.com/M/title-exact?Toy%20Story%2...      298        1   \n",
       "2  http://us.imdb.com/M/title-exact?Toy%20Story%2...      253        1   \n",
       "3  http://us.imdb.com/M/title-exact?Toy%20Story%2...      305        1   \n",
       "4  http://us.imdb.com/M/title-exact?Toy%20Story%2...        6        1   \n",
       "\n",
       "   rating            timestamp  age zip_code       ...       genero_Film-Noir  \\\n",
       "0       4  1997-11-27 04:20:05   28    80525       ...                      0   \n",
       "1       5  1998-01-06 22:34:21   44    01581       ...                      0   \n",
       "2       5  1998-04-03 18:34:27   26    22903       ...                      0   \n",
       "3       5  1998-02-01 08:52:33   23    94086       ...                      0   \n",
       "4       4  1997-12-31 20:17:58   42    98101       ...                      0   \n",
       "\n",
       "   genero_Horror  genero_Musical  genero_Mystery  genero_Romance  \\\n",
       "0              0               0               0               0   \n",
       "1              0               0               0               0   \n",
       "2              0               0               0               0   \n",
       "3              0               0               0               0   \n",
       "4              0               0               0               0   \n",
       "\n",
       "   genero_Sci-Fi  genero_Thriller  genero_War  genero_Western  genero_unknown  \n",
       "0              0                0           0               0               0  \n",
       "1              0                0           0               0               0  \n",
       "2              0                0           0               0               0  \n",
       "3              0                0           0               0               0  \n",
       "4              0                0           0               0               0  \n",
       "\n",
       "[5 rows x 53 columns]"
      ]
     },
     "execution_count": 8,
     "metadata": {},
     "output_type": "execute_result"
    }
   ],
   "source": [
    "movies_dmy = pandas.get_dummies(movies, \n",
    "                                columns=[\"sex\",\"ocuppation\",\"genero\"]\n",
    "                               )\n",
    "movies_dmy.head()"
   ]
  },
  {
   "cell_type": "code",
   "execution_count": 9,
   "metadata": {},
   "outputs": [
    {
     "data": {
      "text/plain": [
       "Index(['id', 'title', 'release_date', 'imdb_url', 'user_id', 'item_id',\n",
       "       'rating', 'timestamp', 'age', 'zip_code', 'faixa_etaria', 'sex_F',\n",
       "       'sex_M', 'ocuppation_administrator', 'ocuppation_artist',\n",
       "       'ocuppation_doctor', 'ocuppation_educator', 'ocuppation_engineer',\n",
       "       'ocuppation_entertainment', 'ocuppation_executive',\n",
       "       'ocuppation_healthcare', 'ocuppation_homemaker', 'ocuppation_lawyer',\n",
       "       'ocuppation_librarian', 'ocuppation_marketing', 'ocuppation_none',\n",
       "       'ocuppation_other', 'ocuppation_programmer', 'ocuppation_retired',\n",
       "       'ocuppation_salesman', 'ocuppation_scientist', 'ocuppation_student',\n",
       "       'ocuppation_technician', 'ocuppation_writer', 'genero_Action',\n",
       "       'genero_Adventure', 'genero_Animation', 'genero_Children's',\n",
       "       'genero_Comedy', 'genero_Crime', 'genero_Documentary', 'genero_Drama',\n",
       "       'genero_Fantasy', 'genero_Film-Noir', 'genero_Horror', 'genero_Musical',\n",
       "       'genero_Mystery', 'genero_Romance', 'genero_Sci-Fi', 'genero_Thriller',\n",
       "       'genero_War', 'genero_Western', 'genero_unknown'],\n",
       "      dtype='object')"
      ]
     },
     "execution_count": 9,
     "metadata": {},
     "output_type": "execute_result"
    }
   ],
   "source": [
    "movies_dmy.columns"
   ]
  },
  {
   "cell_type": "markdown",
   "metadata": {},
   "source": [
    "## <font color='blue'>Vamos enriquecer mais nossos dados! Vamos carregar um dataset da relação dos `zip_code` e estados, para que possamos saber o **estado de cada usuário**!</font>\n",
    "\n",
    "Para fazer isso basta carregar o banco de zip codes disponível em <span class=\"importante\"> http://bit.ly/2nEJKar </span>, e em seguida realizar um `merge` pelo `zip_code`.\n",
    "\n",
    "![alt text](https://static.vix.com/pt/sites/default/files/styles/large/public/a/atrasada-relogio-pulso-1116-1400x800.jpg?itok=qv3gUH6U)\n",
    "\n"
   ]
  },
  {
   "cell_type": "code",
   "execution_count": 10,
   "metadata": {},
   "outputs": [
    {
     "data": {
      "text/html": [
       "<div>\n",
       "<style>\n",
       "    .dataframe thead tr:only-child th {\n",
       "        text-align: right;\n",
       "    }\n",
       "\n",
       "    .dataframe thead th {\n",
       "        text-align: left;\n",
       "    }\n",
       "\n",
       "    .dataframe tbody tr th {\n",
       "        vertical-align: top;\n",
       "    }\n",
       "</style>\n",
       "<table border=\"1\" class=\"dataframe\">\n",
       "  <thead>\n",
       "    <tr style=\"text-align: right;\">\n",
       "      <th></th>\n",
       "      <th>Zipcode</th>\n",
       "      <th>ZipCodeType</th>\n",
       "      <th>City</th>\n",
       "      <th>State</th>\n",
       "      <th>LocationType</th>\n",
       "      <th>Lat</th>\n",
       "      <th>Long</th>\n",
       "      <th>Location</th>\n",
       "      <th>Decommisioned</th>\n",
       "      <th>TaxReturnsFiled</th>\n",
       "      <th>EstimatedPopulation</th>\n",
       "      <th>TotalWages</th>\n",
       "    </tr>\n",
       "  </thead>\n",
       "  <tbody>\n",
       "    <tr>\n",
       "      <th>0</th>\n",
       "      <td>705</td>\n",
       "      <td>STANDARD</td>\n",
       "      <td>AIBONITO</td>\n",
       "      <td>PR</td>\n",
       "      <td>PRIMARY</td>\n",
       "      <td>18.14</td>\n",
       "      <td>-66.26</td>\n",
       "      <td>NA-US-PR-AIBONITO</td>\n",
       "      <td>False</td>\n",
       "      <td>NaN</td>\n",
       "      <td>NaN</td>\n",
       "      <td>NaN</td>\n",
       "    </tr>\n",
       "    <tr>\n",
       "      <th>1</th>\n",
       "      <td>610</td>\n",
       "      <td>STANDARD</td>\n",
       "      <td>ANASCO</td>\n",
       "      <td>PR</td>\n",
       "      <td>PRIMARY</td>\n",
       "      <td>18.28</td>\n",
       "      <td>-67.14</td>\n",
       "      <td>NA-US-PR-ANASCO</td>\n",
       "      <td>False</td>\n",
       "      <td>NaN</td>\n",
       "      <td>NaN</td>\n",
       "      <td>NaN</td>\n",
       "    </tr>\n",
       "    <tr>\n",
       "      <th>2</th>\n",
       "      <td>611</td>\n",
       "      <td>PO BOX</td>\n",
       "      <td>ANGELES</td>\n",
       "      <td>PR</td>\n",
       "      <td>PRIMARY</td>\n",
       "      <td>18.28</td>\n",
       "      <td>-66.79</td>\n",
       "      <td>NA-US-PR-ANGELES</td>\n",
       "      <td>False</td>\n",
       "      <td>NaN</td>\n",
       "      <td>NaN</td>\n",
       "      <td>NaN</td>\n",
       "    </tr>\n",
       "    <tr>\n",
       "      <th>3</th>\n",
       "      <td>612</td>\n",
       "      <td>STANDARD</td>\n",
       "      <td>ARECIBO</td>\n",
       "      <td>PR</td>\n",
       "      <td>PRIMARY</td>\n",
       "      <td>18.45</td>\n",
       "      <td>-66.73</td>\n",
       "      <td>NA-US-PR-ARECIBO</td>\n",
       "      <td>False</td>\n",
       "      <td>NaN</td>\n",
       "      <td>NaN</td>\n",
       "      <td>NaN</td>\n",
       "    </tr>\n",
       "    <tr>\n",
       "      <th>4</th>\n",
       "      <td>601</td>\n",
       "      <td>STANDARD</td>\n",
       "      <td>ADJUNTAS</td>\n",
       "      <td>PR</td>\n",
       "      <td>PRIMARY</td>\n",
       "      <td>18.16</td>\n",
       "      <td>-66.72</td>\n",
       "      <td>NA-US-PR-ADJUNTAS</td>\n",
       "      <td>False</td>\n",
       "      <td>NaN</td>\n",
       "      <td>NaN</td>\n",
       "      <td>NaN</td>\n",
       "    </tr>\n",
       "  </tbody>\n",
       "</table>\n",
       "</div>"
      ],
      "text/plain": [
       "   Zipcode ZipCodeType      City State LocationType    Lat   Long  \\\n",
       "0      705    STANDARD  AIBONITO    PR      PRIMARY  18.14 -66.26   \n",
       "1      610    STANDARD    ANASCO    PR      PRIMARY  18.28 -67.14   \n",
       "2      611      PO BOX   ANGELES    PR      PRIMARY  18.28 -66.79   \n",
       "3      612    STANDARD   ARECIBO    PR      PRIMARY  18.45 -66.73   \n",
       "4      601    STANDARD  ADJUNTAS    PR      PRIMARY  18.16 -66.72   \n",
       "\n",
       "            Location  Decommisioned  TaxReturnsFiled  EstimatedPopulation  \\\n",
       "0  NA-US-PR-AIBONITO          False              NaN                  NaN   \n",
       "1    NA-US-PR-ANASCO          False              NaN                  NaN   \n",
       "2   NA-US-PR-ANGELES          False              NaN                  NaN   \n",
       "3   NA-US-PR-ARECIBO          False              NaN                  NaN   \n",
       "4  NA-US-PR-ADJUNTAS          False              NaN                  NaN   \n",
       "\n",
       "   TotalWages  \n",
       "0         NaN  \n",
       "1         NaN  \n",
       "2         NaN  \n",
       "3         NaN  \n",
       "4         NaN  "
      ]
     },
     "execution_count": 10,
     "metadata": {},
     "output_type": "execute_result"
    }
   ],
   "source": [
    "#trocar a url para uma legivel\n",
    "zipcode = pandas.read_csv(\"http://bit.ly/2nEJKar\")\n",
    "zipcode.head()"
   ]
  },
  {
   "cell_type": "code",
   "execution_count": 11,
   "metadata": {},
   "outputs": [
    {
     "data": {
      "text/html": [
       "<div>\n",
       "<style>\n",
       "    .dataframe thead tr:only-child th {\n",
       "        text-align: right;\n",
       "    }\n",
       "\n",
       "    .dataframe thead th {\n",
       "        text-align: left;\n",
       "    }\n",
       "\n",
       "    .dataframe tbody tr th {\n",
       "        vertical-align: top;\n",
       "    }\n",
       "</style>\n",
       "<table border=\"1\" class=\"dataframe\">\n",
       "  <thead>\n",
       "    <tr style=\"text-align: right;\">\n",
       "      <th></th>\n",
       "      <th>Zipcode</th>\n",
       "      <th>State</th>\n",
       "    </tr>\n",
       "  </thead>\n",
       "  <tbody>\n",
       "    <tr>\n",
       "      <th>0</th>\n",
       "      <td>705</td>\n",
       "      <td>PR</td>\n",
       "    </tr>\n",
       "    <tr>\n",
       "      <th>1</th>\n",
       "      <td>610</td>\n",
       "      <td>PR</td>\n",
       "    </tr>\n",
       "    <tr>\n",
       "      <th>2</th>\n",
       "      <td>611</td>\n",
       "      <td>PR</td>\n",
       "    </tr>\n",
       "    <tr>\n",
       "      <th>3</th>\n",
       "      <td>612</td>\n",
       "      <td>PR</td>\n",
       "    </tr>\n",
       "    <tr>\n",
       "      <th>4</th>\n",
       "      <td>601</td>\n",
       "      <td>PR</td>\n",
       "    </tr>\n",
       "  </tbody>\n",
       "</table>\n",
       "</div>"
      ],
      "text/plain": [
       "   Zipcode State\n",
       "0      705    PR\n",
       "1      610    PR\n",
       "2      611    PR\n",
       "3      612    PR\n",
       "4      601    PR"
      ]
     },
     "execution_count": 11,
     "metadata": {},
     "output_type": "execute_result"
    }
   ],
   "source": [
    "zipcode_state = zipcode[[\"Zipcode\",\"State\"]]\n",
    "zipcode_state.head()"
   ]
  },
  {
   "cell_type": "code",
   "execution_count": 12,
   "metadata": {},
   "outputs": [
    {
     "data": {
      "text/plain": [
       "0    80525\n",
       "1    01581\n",
       "2    22903\n",
       "3    94086\n",
       "4    98101\n",
       "Name: zip_code, dtype: object"
      ]
     },
     "execution_count": 12,
     "metadata": {},
     "output_type": "execute_result"
    }
   ],
   "source": [
    "movies[\"zip_code\"].head()"
   ]
  },
  {
   "cell_type": "code",
   "execution_count": 13,
   "metadata": {},
   "outputs": [
    {
     "data": {
      "text/plain": [
       "0    705\n",
       "1    610\n",
       "2    611\n",
       "3    612\n",
       "4    601\n",
       "Name: Zipcode, dtype: int64"
      ]
     },
     "execution_count": 13,
     "metadata": {},
     "output_type": "execute_result"
    }
   ],
   "source": [
    "zipcode_state[\"Zipcode\"].head()"
   ]
  },
  {
   "cell_type": "markdown",
   "metadata": {},
   "source": [
    "<p class=\"atencao\"> Atenção!</p>\n",
    "A coluna `Zipcode` do dataset que carregamos é do tipo `int64` e a coluna `zip_code` do dataset de filmes é do tipo `string (object)`.\n",
    "\n",
    "Só vamos conseguir fazer o `merge` se os dois forem do mesmo tipo. Então vamos converter a coluna `Zipcode` do dataset de estados para `string`"
   ]
  },
  {
   "cell_type": "code",
   "execution_count": 14,
   "metadata": {
    "collapsed": true,
    "scrolled": false
   },
   "outputs": [],
   "source": [
    "zipcode_state_final = zipcode_state.copy()\n",
    "zipcode_state_final[\"Zipcode\"] = zipcode_state[\"Zipcode\"].astype('str')"
   ]
  },
  {
   "cell_type": "code",
   "execution_count": 15,
   "metadata": {
    "collapsed": true
   },
   "outputs": [],
   "source": [
    "pandas.merge?"
   ]
  },
  {
   "cell_type": "code",
   "execution_count": 16,
   "metadata": {},
   "outputs": [
    {
     "data": {
      "text/html": [
       "<div>\n",
       "<style>\n",
       "    .dataframe thead tr:only-child th {\n",
       "        text-align: right;\n",
       "    }\n",
       "\n",
       "    .dataframe thead th {\n",
       "        text-align: left;\n",
       "    }\n",
       "\n",
       "    .dataframe tbody tr th {\n",
       "        vertical-align: top;\n",
       "    }\n",
       "</style>\n",
       "<table border=\"1\" class=\"dataframe\">\n",
       "  <thead>\n",
       "    <tr style=\"text-align: right;\">\n",
       "      <th></th>\n",
       "      <th>id</th>\n",
       "      <th>title</th>\n",
       "      <th>release_date</th>\n",
       "      <th>imdb_url</th>\n",
       "      <th>user_id</th>\n",
       "      <th>item_id</th>\n",
       "      <th>rating</th>\n",
       "      <th>timestamp</th>\n",
       "      <th>age</th>\n",
       "      <th>zip_code</th>\n",
       "      <th>...</th>\n",
       "      <th>genero_Musical</th>\n",
       "      <th>genero_Mystery</th>\n",
       "      <th>genero_Romance</th>\n",
       "      <th>genero_Sci-Fi</th>\n",
       "      <th>genero_Thriller</th>\n",
       "      <th>genero_War</th>\n",
       "      <th>genero_Western</th>\n",
       "      <th>genero_unknown</th>\n",
       "      <th>Zipcode</th>\n",
       "      <th>State</th>\n",
       "    </tr>\n",
       "  </thead>\n",
       "  <tbody>\n",
       "    <tr>\n",
       "      <th>0</th>\n",
       "      <td>1</td>\n",
       "      <td>Toy Story</td>\n",
       "      <td>01-Jan-1995</td>\n",
       "      <td>http://us.imdb.com/M/title-exact?Toy%20Story%2...</td>\n",
       "      <td>244</td>\n",
       "      <td>1</td>\n",
       "      <td>4</td>\n",
       "      <td>1997-11-27 04:20:05</td>\n",
       "      <td>28</td>\n",
       "      <td>80525</td>\n",
       "      <td>...</td>\n",
       "      <td>0</td>\n",
       "      <td>0</td>\n",
       "      <td>0</td>\n",
       "      <td>0</td>\n",
       "      <td>0</td>\n",
       "      <td>0</td>\n",
       "      <td>0</td>\n",
       "      <td>0</td>\n",
       "      <td>80525</td>\n",
       "      <td>CO</td>\n",
       "    </tr>\n",
       "    <tr>\n",
       "      <th>1</th>\n",
       "      <td>1</td>\n",
       "      <td>Toy Story</td>\n",
       "      <td>01-Jan-1995</td>\n",
       "      <td>http://us.imdb.com/M/title-exact?Toy%20Story%2...</td>\n",
       "      <td>298</td>\n",
       "      <td>1</td>\n",
       "      <td>5</td>\n",
       "      <td>1998-01-06 22:34:21</td>\n",
       "      <td>44</td>\n",
       "      <td>01581</td>\n",
       "      <td>...</td>\n",
       "      <td>0</td>\n",
       "      <td>0</td>\n",
       "      <td>0</td>\n",
       "      <td>0</td>\n",
       "      <td>0</td>\n",
       "      <td>0</td>\n",
       "      <td>0</td>\n",
       "      <td>0</td>\n",
       "      <td>NaN</td>\n",
       "      <td>NaN</td>\n",
       "    </tr>\n",
       "    <tr>\n",
       "      <th>2</th>\n",
       "      <td>1</td>\n",
       "      <td>Toy Story</td>\n",
       "      <td>01-Jan-1995</td>\n",
       "      <td>http://us.imdb.com/M/title-exact?Toy%20Story%2...</td>\n",
       "      <td>253</td>\n",
       "      <td>1</td>\n",
       "      <td>5</td>\n",
       "      <td>1998-04-03 18:34:27</td>\n",
       "      <td>26</td>\n",
       "      <td>22903</td>\n",
       "      <td>...</td>\n",
       "      <td>0</td>\n",
       "      <td>0</td>\n",
       "      <td>0</td>\n",
       "      <td>0</td>\n",
       "      <td>0</td>\n",
       "      <td>0</td>\n",
       "      <td>0</td>\n",
       "      <td>0</td>\n",
       "      <td>22903</td>\n",
       "      <td>VA</td>\n",
       "    </tr>\n",
       "    <tr>\n",
       "      <th>3</th>\n",
       "      <td>1</td>\n",
       "      <td>Toy Story</td>\n",
       "      <td>01-Jan-1995</td>\n",
       "      <td>http://us.imdb.com/M/title-exact?Toy%20Story%2...</td>\n",
       "      <td>305</td>\n",
       "      <td>1</td>\n",
       "      <td>5</td>\n",
       "      <td>1998-02-01 08:52:33</td>\n",
       "      <td>23</td>\n",
       "      <td>94086</td>\n",
       "      <td>...</td>\n",
       "      <td>0</td>\n",
       "      <td>0</td>\n",
       "      <td>0</td>\n",
       "      <td>0</td>\n",
       "      <td>0</td>\n",
       "      <td>0</td>\n",
       "      <td>0</td>\n",
       "      <td>0</td>\n",
       "      <td>94086</td>\n",
       "      <td>CA</td>\n",
       "    </tr>\n",
       "    <tr>\n",
       "      <th>4</th>\n",
       "      <td>1</td>\n",
       "      <td>Toy Story</td>\n",
       "      <td>01-Jan-1995</td>\n",
       "      <td>http://us.imdb.com/M/title-exact?Toy%20Story%2...</td>\n",
       "      <td>6</td>\n",
       "      <td>1</td>\n",
       "      <td>4</td>\n",
       "      <td>1997-12-31 20:17:58</td>\n",
       "      <td>42</td>\n",
       "      <td>98101</td>\n",
       "      <td>...</td>\n",
       "      <td>0</td>\n",
       "      <td>0</td>\n",
       "      <td>0</td>\n",
       "      <td>0</td>\n",
       "      <td>0</td>\n",
       "      <td>0</td>\n",
       "      <td>0</td>\n",
       "      <td>0</td>\n",
       "      <td>98101</td>\n",
       "      <td>WA</td>\n",
       "    </tr>\n",
       "  </tbody>\n",
       "</table>\n",
       "<p>5 rows × 55 columns</p>\n",
       "</div>"
      ],
      "text/plain": [
       "   id       title release_date  \\\n",
       "0   1  Toy Story   01-Jan-1995   \n",
       "1   1  Toy Story   01-Jan-1995   \n",
       "2   1  Toy Story   01-Jan-1995   \n",
       "3   1  Toy Story   01-Jan-1995   \n",
       "4   1  Toy Story   01-Jan-1995   \n",
       "\n",
       "                                            imdb_url  user_id  item_id  \\\n",
       "0  http://us.imdb.com/M/title-exact?Toy%20Story%2...      244        1   \n",
       "1  http://us.imdb.com/M/title-exact?Toy%20Story%2...      298        1   \n",
       "2  http://us.imdb.com/M/title-exact?Toy%20Story%2...      253        1   \n",
       "3  http://us.imdb.com/M/title-exact?Toy%20Story%2...      305        1   \n",
       "4  http://us.imdb.com/M/title-exact?Toy%20Story%2...        6        1   \n",
       "\n",
       "   rating            timestamp  age zip_code  ...   genero_Musical  \\\n",
       "0       4  1997-11-27 04:20:05   28    80525  ...                0   \n",
       "1       5  1998-01-06 22:34:21   44    01581  ...                0   \n",
       "2       5  1998-04-03 18:34:27   26    22903  ...                0   \n",
       "3       5  1998-02-01 08:52:33   23    94086  ...                0   \n",
       "4       4  1997-12-31 20:17:58   42    98101  ...                0   \n",
       "\n",
       "   genero_Mystery  genero_Romance  genero_Sci-Fi  genero_Thriller  genero_War  \\\n",
       "0               0               0              0                0           0   \n",
       "1               0               0              0                0           0   \n",
       "2               0               0              0                0           0   \n",
       "3               0               0              0                0           0   \n",
       "4               0               0              0                0           0   \n",
       "\n",
       "   genero_Western  genero_unknown  Zipcode  State  \n",
       "0               0               0    80525     CO  \n",
       "1               0               0      NaN    NaN  \n",
       "2               0               0    22903     VA  \n",
       "3               0               0    94086     CA  \n",
       "4               0               0    98101     WA  \n",
       "\n",
       "[5 rows x 55 columns]"
      ]
     },
     "execution_count": 16,
     "metadata": {},
     "output_type": "execute_result"
    }
   ],
   "source": [
    "movies_with_state = pandas.merge(movies_dmy,\n",
    "                                 zipcode_state_final,\n",
    "                                 how=\"left\",\n",
    "                                 left_on=\"zip_code\",\n",
    "                                 right_on=\"Zipcode\")\n",
    "movies_with_state.head()"
   ]
  },
  {
   "cell_type": "code",
   "execution_count": 17,
   "metadata": {},
   "outputs": [
    {
     "data": {
      "text/plain": [
       "id                              0\n",
       "title                           0\n",
       "release_date                    9\n",
       "imdb_url                       13\n",
       "user_id                         0\n",
       "item_id                         0\n",
       "rating                          0\n",
       "timestamp                       0\n",
       "age                             0\n",
       "zip_code                        0\n",
       "faixa_etaria                    0\n",
       "sex_F                           0\n",
       "sex_M                           0\n",
       "ocuppation_administrator        0\n",
       "ocuppation_artist               0\n",
       "ocuppation_doctor               0\n",
       "ocuppation_educator             0\n",
       "ocuppation_engineer             0\n",
       "ocuppation_entertainment        0\n",
       "ocuppation_executive            0\n",
       "ocuppation_healthcare           0\n",
       "ocuppation_homemaker            0\n",
       "ocuppation_lawyer               0\n",
       "ocuppation_librarian            0\n",
       "ocuppation_marketing            0\n",
       "ocuppation_none                 0\n",
       "ocuppation_other                0\n",
       "ocuppation_programmer           0\n",
       "ocuppation_retired              0\n",
       "ocuppation_salesman             0\n",
       "ocuppation_scientist            0\n",
       "ocuppation_student              0\n",
       "ocuppation_technician           0\n",
       "ocuppation_writer               0\n",
       "genero_Action                   0\n",
       "genero_Adventure                0\n",
       "genero_Animation                0\n",
       "genero_Children's               0\n",
       "genero_Comedy                   0\n",
       "genero_Crime                    0\n",
       "genero_Documentary              0\n",
       "genero_Drama                    0\n",
       "genero_Fantasy                  0\n",
       "genero_Film-Noir                0\n",
       "genero_Horror                   0\n",
       "genero_Musical                  0\n",
       "genero_Mystery                  0\n",
       "genero_Romance                  0\n",
       "genero_Sci-Fi                   0\n",
       "genero_Thriller                 0\n",
       "genero_War                      0\n",
       "genero_Western                  0\n",
       "genero_unknown                  0\n",
       "Zipcode                     12262\n",
       "State                       12262\n",
       "dtype: int64"
      ]
     },
     "execution_count": 17,
     "metadata": {},
     "output_type": "execute_result"
    }
   ],
   "source": [
    "movies_with_state.isnull().sum()"
   ]
  },
  {
   "cell_type": "markdown",
   "metadata": {},
   "source": [
    "Vamos ver a distribuição dos dados pelos estados"
   ]
  },
  {
   "cell_type": "code",
   "execution_count": 18,
   "metadata": {},
   "outputs": [
    {
     "data": {
      "text/plain": [
       "<matplotlib.axes._subplots.AxesSubplot at 0x7ff5ed48f6d8>"
      ]
     },
     "execution_count": 18,
     "metadata": {},
     "output_type": "execute_result"
    },
    {
     "data": {
      "image/png": "[encoded data removed]",
      "text/plain": [
       "<matplotlib.figure.Figure at 0x7ff5ed48f6a0>"
      ]
     },
     "metadata": {},
     "output_type": "display_data"
    }
   ],
   "source": [
    "%matplotlib inline\n",
    "\n",
    "import seaborn as sns\n",
    "import matplotlib.pyplot as plt\n",
    "plt.figure(figsize=(15,8))\n",
    "plt.xticks(rotation=90)\n",
    "\n",
    "sns.countplot(movies_with_state[\"State\"])"
   ]
  },
  {
   "cell_type": "markdown",
   "metadata": {},
   "source": [
    "## <font color='blue'>Vamos agora, transformar os valores da coluna `State` em valores numéricos</font>\n",
    "![alt text](https://static.vix.com/pt/sites/default/files/styles/large/public/a/atrasada-relogio-pulso-1116-1400x800.jpg?itok=qv3gUH6U)"
   ]
  },
  {
   "cell_type": "code",
   "execution_count": 19,
   "metadata": {},
   "outputs": [
    {
     "data": {
      "text/html": [
       "<div>\n",
       "<style>\n",
       "    .dataframe thead tr:only-child th {\n",
       "        text-align: right;\n",
       "    }\n",
       "\n",
       "    .dataframe thead th {\n",
       "        text-align: left;\n",
       "    }\n",
       "\n",
       "    .dataframe tbody tr th {\n",
       "        vertical-align: top;\n",
       "    }\n",
       "</style>\n",
       "<table border=\"1\" class=\"dataframe\">\n",
       "  <thead>\n",
       "    <tr style=\"text-align: right;\">\n",
       "      <th></th>\n",
       "      <th>id</th>\n",
       "      <th>title</th>\n",
       "      <th>release_date</th>\n",
       "      <th>imdb_url</th>\n",
       "      <th>user_id</th>\n",
       "      <th>item_id</th>\n",
       "      <th>rating</th>\n",
       "      <th>timestamp</th>\n",
       "      <th>age</th>\n",
       "      <th>zip_code</th>\n",
       "      <th>...</th>\n",
       "      <th>State_SC</th>\n",
       "      <th>State_SD</th>\n",
       "      <th>State_TN</th>\n",
       "      <th>State_TX</th>\n",
       "      <th>State_UT</th>\n",
       "      <th>State_VA</th>\n",
       "      <th>State_WA</th>\n",
       "      <th>State_WI</th>\n",
       "      <th>State_WV</th>\n",
       "      <th>State_WY</th>\n",
       "    </tr>\n",
       "  </thead>\n",
       "  <tbody>\n",
       "    <tr>\n",
       "      <th>0</th>\n",
       "      <td>1</td>\n",
       "      <td>Toy Story</td>\n",
       "      <td>01-Jan-1995</td>\n",
       "      <td>http://us.imdb.com/M/title-exact?Toy%20Story%2...</td>\n",
       "      <td>244</td>\n",
       "      <td>1</td>\n",
       "      <td>4</td>\n",
       "      <td>1997-11-27 04:20:05</td>\n",
       "      <td>28</td>\n",
       "      <td>80525</td>\n",
       "      <td>...</td>\n",
       "      <td>0</td>\n",
       "      <td>0</td>\n",
       "      <td>0</td>\n",
       "      <td>0</td>\n",
       "      <td>0</td>\n",
       "      <td>0</td>\n",
       "      <td>0</td>\n",
       "      <td>0</td>\n",
       "      <td>0</td>\n",
       "      <td>0</td>\n",
       "    </tr>\n",
       "    <tr>\n",
       "      <th>1</th>\n",
       "      <td>1</td>\n",
       "      <td>Toy Story</td>\n",
       "      <td>01-Jan-1995</td>\n",
       "      <td>http://us.imdb.com/M/title-exact?Toy%20Story%2...</td>\n",
       "      <td>298</td>\n",
       "      <td>1</td>\n",
       "      <td>5</td>\n",
       "      <td>1998-01-06 22:34:21</td>\n",
       "      <td>44</td>\n",
       "      <td>01581</td>\n",
       "      <td>...</td>\n",
       "      <td>0</td>\n",
       "      <td>0</td>\n",
       "      <td>0</td>\n",
       "      <td>0</td>\n",
       "      <td>0</td>\n",
       "      <td>0</td>\n",
       "      <td>0</td>\n",
       "      <td>0</td>\n",
       "      <td>0</td>\n",
       "      <td>0</td>\n",
       "    </tr>\n",
       "    <tr>\n",
       "      <th>2</th>\n",
       "      <td>1</td>\n",
       "      <td>Toy Story</td>\n",
       "      <td>01-Jan-1995</td>\n",
       "      <td>http://us.imdb.com/M/title-exact?Toy%20Story%2...</td>\n",
       "      <td>253</td>\n",
       "      <td>1</td>\n",
       "      <td>5</td>\n",
       "      <td>1998-04-03 18:34:27</td>\n",
       "      <td>26</td>\n",
       "      <td>22903</td>\n",
       "      <td>...</td>\n",
       "      <td>0</td>\n",
       "      <td>0</td>\n",
       "      <td>0</td>\n",
       "      <td>0</td>\n",
       "      <td>0</td>\n",
       "      <td>1</td>\n",
       "      <td>0</td>\n",
       "      <td>0</td>\n",
       "      <td>0</td>\n",
       "      <td>0</td>\n",
       "    </tr>\n",
       "    <tr>\n",
       "      <th>3</th>\n",
       "      <td>1</td>\n",
       "      <td>Toy Story</td>\n",
       "      <td>01-Jan-1995</td>\n",
       "      <td>http://us.imdb.com/M/title-exact?Toy%20Story%2...</td>\n",
       "      <td>305</td>\n",
       "      <td>1</td>\n",
       "      <td>5</td>\n",
       "      <td>1998-02-01 08:52:33</td>\n",
       "      <td>23</td>\n",
       "      <td>94086</td>\n",
       "      <td>...</td>\n",
       "      <td>0</td>\n",
       "      <td>0</td>\n",
       "      <td>0</td>\n",
       "      <td>0</td>\n",
       "      <td>0</td>\n",
       "      <td>0</td>\n",
       "      <td>0</td>\n",
       "      <td>0</td>\n",
       "      <td>0</td>\n",
       "      <td>0</td>\n",
       "    </tr>\n",
       "    <tr>\n",
       "      <th>4</th>\n",
       "      <td>1</td>\n",
       "      <td>Toy Story</td>\n",
       "      <td>01-Jan-1995</td>\n",
       "      <td>http://us.imdb.com/M/title-exact?Toy%20Story%2...</td>\n",
       "      <td>6</td>\n",
       "      <td>1</td>\n",
       "      <td>4</td>\n",
       "      <td>1997-12-31 20:17:58</td>\n",
       "      <td>42</td>\n",
       "      <td>98101</td>\n",
       "      <td>...</td>\n",
       "      <td>0</td>\n",
       "      <td>0</td>\n",
       "      <td>0</td>\n",
       "      <td>0</td>\n",
       "      <td>0</td>\n",
       "      <td>0</td>\n",
       "      <td>1</td>\n",
       "      <td>0</td>\n",
       "      <td>0</td>\n",
       "      <td>0</td>\n",
       "    </tr>\n",
       "  </tbody>\n",
       "</table>\n",
       "<p>5 rows × 99 columns</p>\n",
       "</div>"
      ],
      "text/plain": [
       "   id       title release_date  \\\n",
       "0   1  Toy Story   01-Jan-1995   \n",
       "1   1  Toy Story   01-Jan-1995   \n",
       "2   1  Toy Story   01-Jan-1995   \n",
       "3   1  Toy Story   01-Jan-1995   \n",
       "4   1  Toy Story   01-Jan-1995   \n",
       "\n",
       "                                            imdb_url  user_id  item_id  \\\n",
       "0  http://us.imdb.com/M/title-exact?Toy%20Story%2...      244        1   \n",
       "1  http://us.imdb.com/M/title-exact?Toy%20Story%2...      298        1   \n",
       "2  http://us.imdb.com/M/title-exact?Toy%20Story%2...      253        1   \n",
       "3  http://us.imdb.com/M/title-exact?Toy%20Story%2...      305        1   \n",
       "4  http://us.imdb.com/M/title-exact?Toy%20Story%2...        6        1   \n",
       "\n",
       "   rating            timestamp  age zip_code    ...    State_SC  State_SD  \\\n",
       "0       4  1997-11-27 04:20:05   28    80525    ...           0         0   \n",
       "1       5  1998-01-06 22:34:21   44    01581    ...           0         0   \n",
       "2       5  1998-04-03 18:34:27   26    22903    ...           0         0   \n",
       "3       5  1998-02-01 08:52:33   23    94086    ...           0         0   \n",
       "4       4  1997-12-31 20:17:58   42    98101    ...           0         0   \n",
       "\n",
       "   State_TN  State_TX  State_UT  State_VA  State_WA  State_WI  State_WV  \\\n",
       "0         0         0         0         0         0         0         0   \n",
       "1         0         0         0         0         0         0         0   \n",
       "2         0         0         0         1         0         0         0   \n",
       "3         0         0         0         0         0         0         0   \n",
       "4         0         0         0         0         1         0         0   \n",
       "\n",
       "   State_WY  \n",
       "0         0  \n",
       "1         0  \n",
       "2         0  \n",
       "3         0  \n",
       "4         0  \n",
       "\n",
       "[5 rows x 99 columns]"
      ]
     },
     "execution_count": 19,
     "metadata": {},
     "output_type": "execute_result"
    }
   ],
   "source": [
    "movies_final = pandas.get_dummies(movies_with_state, columns=[\"State\"])\n",
    "movies_final.head()"
   ]
  },
  {
   "cell_type": "markdown",
   "metadata": {},
   "source": [
    "Agora, terminamos de enrriquecer nossos dados! \\o/\n",
    "\n",
    "Vamos salvar o dataset para não perdermos nosso avanço!"
   ]
  },
  {
   "cell_type": "code",
   "execution_count": 20,
   "metadata": {
    "collapsed": true
   },
   "outputs": [],
   "source": [
    "movies_final.to_csv(\"movielens_final.csv\", index=False)"
   ]
  },
  {
   "cell_type": "code",
   "execution_count": null,
   "metadata": {
    "collapsed": true
   },
   "outputs": [],
   "source": []
  },
  {
   "cell_type": "code",
   "execution_count": null,
   "metadata": {
    "collapsed": true
   },
   "outputs": [],
   "source": []
  },
  {
   "cell_type": "code",
   "execution_count": null,
   "metadata": {
    "collapsed": true
   },
   "outputs": [],
   "source": []
  },
  {
   "cell_type": "code",
   "execution_count": null,
   "metadata": {
    "collapsed": true
   },
   "outputs": [],
   "source": []
  },
  {
   "cell_type": "code",
   "execution_count": null,
   "metadata": {
    "collapsed": true
   },
   "outputs": [],
   "source": []
  },
  {
   "cell_type": "markdown",
   "metadata": {},
   "source": [
    "----\n",
    "\n",
    "## K-means\n",
    "\n",
    "K-means é um algoritmo de agrupamento. A idéia é agrupar os dados por **proximidade** a um ponto central. Para falarmos sobre **proximidade** devemos entender o conceito de **distância e similaridade** \n",
    "\n",
    "### Similaridade e Distância\n",
    "\n",
    "Vamos analisar o conceito de distância inicialmente!\n",
    "\n",
    "Vamos imaginar um conjunto de dados que pode ser representado por dois valores numéricos, $X_1$ e $X_2$"
   ]
  },
  {
   "cell_type": "code",
   "execution_count": 21,
   "metadata": {},
   "outputs": [
    {
     "data": {
      "text/html": [
       "<div>\n",
       "<style>\n",
       "    .dataframe thead tr:only-child th {\n",
       "        text-align: right;\n",
       "    }\n",
       "\n",
       "    .dataframe thead th {\n",
       "        text-align: left;\n",
       "    }\n",
       "\n",
       "    .dataframe tbody tr th {\n",
       "        vertical-align: top;\n",
       "    }\n",
       "</style>\n",
       "<table border=\"1\" class=\"dataframe\">\n",
       "  <thead>\n",
       "    <tr style=\"text-align: right;\">\n",
       "      <th></th>\n",
       "      <th>X1</th>\n",
       "      <th>X2</th>\n",
       "    </tr>\n",
       "  </thead>\n",
       "  <tbody>\n",
       "    <tr>\n",
       "      <th>0</th>\n",
       "      <td>1.0</td>\n",
       "      <td>2.0</td>\n",
       "    </tr>\n",
       "    <tr>\n",
       "      <th>1</th>\n",
       "      <td>2.0</td>\n",
       "      <td>1.0</td>\n",
       "    </tr>\n",
       "    <tr>\n",
       "      <th>2</th>\n",
       "      <td>2.0</td>\n",
       "      <td>3.2</td>\n",
       "    </tr>\n",
       "    <tr>\n",
       "      <th>3</th>\n",
       "      <td>3.0</td>\n",
       "      <td>2.5</td>\n",
       "    </tr>\n",
       "    <tr>\n",
       "      <th>4</th>\n",
       "      <td>4.0</td>\n",
       "      <td>1.0</td>\n",
       "    </tr>\n",
       "    <tr>\n",
       "      <th>5</th>\n",
       "      <td>1.2</td>\n",
       "      <td>1.0</td>\n",
       "    </tr>\n",
       "    <tr>\n",
       "      <th>6</th>\n",
       "      <td>0.2</td>\n",
       "      <td>7.3</td>\n",
       "    </tr>\n",
       "  </tbody>\n",
       "</table>\n",
       "</div>"
      ],
      "text/plain": [
       "    X1   X2\n",
       "0  1.0  2.0\n",
       "1  2.0  1.0\n",
       "2  2.0  3.2\n",
       "3  3.0  2.5\n",
       "4  4.0  1.0\n",
       "5  1.2  1.0\n",
       "6  0.2  7.3"
      ]
     },
     "execution_count": 21,
     "metadata": {},
     "output_type": "execute_result"
    }
   ],
   "source": [
    "dados_matriz = [[1,2],\n",
    "                [2,1],\n",
    "                [2,3.2],\n",
    "                [3,2.5],\n",
    "                [4,1],\n",
    "                [1.2,1],\n",
    "                [0.2,7.3]]\n",
    "\n",
    "dados = pandas.DataFrame(dados_matriz,columns=[\"X1\",\"X2\"])\n",
    "dados"
   ]
  },
  {
   "cell_type": "markdown",
   "metadata": {},
   "source": [
    "Vamos ver esses dados em um gráfico com os valores indicando suas posições"
   ]
  },
  {
   "cell_type": "code",
   "execution_count": 22,
   "metadata": {},
   "outputs": [
    {
     "data": {
      "text/plain": [
       "[<matplotlib.lines.Line2D at 0x7ff5ec4e1a58>]"
      ]
     },
     "execution_count": 22,
     "metadata": {},
     "output_type": "execute_result"
    },
    {
     "data": {
      "image/png": "[encoded data removed]",
      "text/plain": [
       "<matplotlib.figure.Figure at 0x7ff5ec6bb4e0>"
      ]
     },
     "metadata": {},
     "output_type": "display_data"
    }
   ],
   "source": [
    "%matplotlib inline\n",
    "import matplotlib.pyplot as plt\n",
    "plt.plot(dados[\"X1\"],dados[\"X2\"],\"o\")"
   ]
  },
  {
   "cell_type": "markdown",
   "metadata": {},
   "source": [
    "Nesse caso, com apenas duas colunas, podemos medir a distância entre dois pontos visualmente.\n",
    "A distância em linha reta desses pontos pode ser calculada a partir da fórmula da **distância euclidiana**\n",
    "\n",
    "$D(a,b) = \\sqrt{(a_{x1} - b_{x1})^2 + (a_{x2} - b_{x2})^2}$\n",
    "\n",
    "Vamos fazer então a função que calcula a distância euclidiana"
   ]
  },
  {
   "cell_type": "code",
   "execution_count": 23,
   "metadata": {
    "collapsed": true
   },
   "outputs": [],
   "source": [
    "def dist(a,b):\n",
    "    return ( (a[0]-b[0])**2 + (a[1]-b[1])**2 )**0.5"
   ]
  },
  {
   "cell_type": "code",
   "execution_count": 24,
   "metadata": {},
   "outputs": [
    {
     "name": "stdout",
     "output_type": "stream",
     "text": [
      "\n",
      "a distância de [1, 2] a [2, 3.2] é 1.562049935181331\n",
      "\n"
     ]
    }
   ],
   "source": [
    "dado_a = dados_matriz[0]\n",
    "dado_b = dados_matriz[2]\n",
    "d_ab = dist(dado_a,dado_b)\n",
    "\n",
    "print(\"\"\"\n",
    "a distância de {} a {} é {}\n",
    "\"\"\".format(dado_a,dado_b,d_ab))"
   ]
  },
  {
   "cell_type": "markdown",
   "metadata": {},
   "source": [
    "Esse é o caso de um dado com dois atributos (duas dimensões). Podemos generalizar o cálculo para a quantidade de dimensões do dado. A distância de dois dados que tem $n$ atributos é\n",
    "\n",
    "$D(a,b) = \\sqrt{ \\sum_{i=1}^{n}{(a_{xi} - b_{xi})^2}}$"
   ]
  },
  {
   "cell_type": "code",
   "execution_count": 25,
   "metadata": {
    "collapsed": true
   },
   "outputs": [],
   "source": [
    "def dist_n(a,b):\n",
    "    somatorio = 0.0\n",
    "    for i in range(len(a)):\n",
    "        somatorio = somatorio + (a[i]-b[i])**2\n",
    "    return somatorio**0.5"
   ]
  },
  {
   "cell_type": "code",
   "execution_count": 26,
   "metadata": {},
   "outputs": [
    {
     "data": {
      "text/plain": [
       "0.0"
      ]
     },
     "execution_count": 26,
     "metadata": {},
     "output_type": "execute_result"
    }
   ],
   "source": [
    "dist_n([1,2],[1,2])"
   ]
  },
  {
   "cell_type": "markdown",
   "metadata": {},
   "source": [
    "<p class=\"atencao\"> Não existe apenas a distância euclidiana!</p>"
   ]
  },
  {
   "cell_type": "markdown",
   "metadata": {},
   "source": [
    "Agora que entendemos a distância entre dados, vamos fazer uma aplicação baseada nisso\n",
    "\n",
    "**Vamos encontrar o usuários mais próximo de um usuário selecionado do dataset `movie_lens`**\n",
    "\n",
    "Vamos inicialmente selecionar apenas as colunas que são relativas ao usuário"
   ]
  },
  {
   "cell_type": "markdown",
   "metadata": {},
   "source": [
    "Temos muitas colunas que começam com `State_` e `ocuppation_`. "
   ]
  },
  {
   "cell_type": "code",
   "execution_count": 27,
   "metadata": {},
   "outputs": [
    {
     "data": {
      "text/plain": [
       "Index(['id', 'title', 'release_date', 'imdb_url', 'user_id', 'item_id',\n",
       "       'rating', 'timestamp', 'age', 'zip_code', 'faixa_etaria', 'sex_F',\n",
       "       'sex_M', 'ocuppation_administrator', 'ocuppation_artist',\n",
       "       'ocuppation_doctor', 'ocuppation_educator', 'ocuppation_engineer',\n",
       "       'ocuppation_entertainment', 'ocuppation_executive',\n",
       "       'ocuppation_healthcare', 'ocuppation_homemaker', 'ocuppation_lawyer',\n",
       "       'ocuppation_librarian', 'ocuppation_marketing', 'ocuppation_none',\n",
       "       'ocuppation_other', 'ocuppation_programmer', 'ocuppation_retired',\n",
       "       'ocuppation_salesman', 'ocuppation_scientist', 'ocuppation_student',\n",
       "       'ocuppation_technician', 'ocuppation_writer', 'genero_Action',\n",
       "       'genero_Adventure', 'genero_Animation', 'genero_Children's',\n",
       "       'genero_Comedy', 'genero_Crime', 'genero_Documentary', 'genero_Drama',\n",
       "       'genero_Fantasy', 'genero_Film-Noir', 'genero_Horror', 'genero_Musical',\n",
       "       'genero_Mystery', 'genero_Romance', 'genero_Sci-Fi', 'genero_Thriller',\n",
       "       'genero_War', 'genero_Western', 'genero_unknown', 'Zipcode', 'State_AK',\n",
       "       'State_AL', 'State_AP', 'State_AR', 'State_AZ', 'State_CA', 'State_CO',\n",
       "       'State_DC', 'State_DE', 'State_FL', 'State_GA', 'State_HI', 'State_IA',\n",
       "       'State_ID', 'State_IL', 'State_IN', 'State_KS', 'State_KY', 'State_LA',\n",
       "       'State_MD', 'State_MI', 'State_MN', 'State_MO', 'State_MS', 'State_MT',\n",
       "       'State_NC', 'State_ND', 'State_NE', 'State_NM', 'State_NV', 'State_NY',\n",
       "       'State_OH', 'State_OK', 'State_OR', 'State_PA', 'State_SC', 'State_SD',\n",
       "       'State_TN', 'State_TX', 'State_UT', 'State_VA', 'State_WA', 'State_WI',\n",
       "       'State_WV', 'State_WY'],\n",
       "      dtype='object')"
      ]
     },
     "execution_count": 27,
     "metadata": {},
     "output_type": "execute_result"
    }
   ],
   "source": [
    "movies_final.columns"
   ]
  },
  {
   "cell_type": "markdown",
   "metadata": {},
   "source": [
    "Vamos selecionar essas colunas filtrando entre todas"
   ]
  },
  {
   "cell_type": "code",
   "execution_count": 28,
   "metadata": {},
   "outputs": [
    {
     "name": "stdout",
     "output_type": "stream",
     "text": [
      "\n",
      "As colunas selecionadas foram: \n",
      " ['ocuppation_administrator', 'ocuppation_artist', 'ocuppation_doctor', 'ocuppation_educator', 'ocuppation_engineer', 'ocuppation_entertainment', 'ocuppation_executive', 'ocuppation_healthcare', 'ocuppation_homemaker', 'ocuppation_lawyer', 'ocuppation_librarian', 'ocuppation_marketing', 'ocuppation_none', 'ocuppation_other', 'ocuppation_programmer', 'ocuppation_retired', 'ocuppation_salesman', 'ocuppation_scientist', 'ocuppation_student', 'ocuppation_technician', 'ocuppation_writer', 'State_AK', 'State_AL', 'State_AP', 'State_AR', 'State_AZ', 'State_CA', 'State_CO', 'State_DC', 'State_DE', 'State_FL', 'State_GA', 'State_HI', 'State_IA', 'State_ID', 'State_IL', 'State_IN', 'State_KS', 'State_KY', 'State_LA', 'State_MD', 'State_MI', 'State_MN', 'State_MO', 'State_MS', 'State_MT', 'State_NC', 'State_ND', 'State_NE', 'State_NM', 'State_NV', 'State_NY', 'State_OH', 'State_OK', 'State_OR', 'State_PA', 'State_SC', 'State_SD', 'State_TN', 'State_TX', 'State_UT', 'State_VA', 'State_WA', 'State_WI', 'State_WV', 'State_WY']\n",
      "\n"
     ]
    }
   ],
   "source": [
    "all_columns = list(movies_final.columns)\n",
    "\n",
    "occupation_state_columns = []\n",
    "for c in all_columns:\n",
    "    if c.startswith(\"State_\") or c.startswith(\"ocuppation_\"):\n",
    "        occupation_state_columns.append(c)\n",
    "        \n",
    "print(\"\"\"\n",
    "As colunas selecionadas foram: \\n {}\n",
    "\"\"\".format(occupation_state_columns))"
   ]
  },
  {
   "cell_type": "markdown",
   "metadata": {},
   "source": [
    "Além dessas colunas também temos as colunas `age`,`sex_F`,`sex_M` e `user_id` que devem ser concatenadas com as que selecionamos até agora"
   ]
  },
  {
   "cell_type": "code",
   "execution_count": 29,
   "metadata": {
    "collapsed": true
   },
   "outputs": [],
   "source": [
    "columns_to_select = [\"age\",\n",
    "                     \"sex_F\",\n",
    "                     \"sex_M\",\n",
    "                     \"user_id\"] + occupation_state_columns"
   ]
  },
  {
   "cell_type": "code",
   "execution_count": 30,
   "metadata": {},
   "outputs": [
    {
     "data": {
      "text/plain": [
       "['age',\n",
       " 'sex_F',\n",
       " 'sex_M',\n",
       " 'user_id',\n",
       " 'ocuppation_administrator',\n",
       " 'ocuppation_artist',\n",
       " 'ocuppation_doctor',\n",
       " 'ocuppation_educator',\n",
       " 'ocuppation_engineer',\n",
       " 'ocuppation_entertainment',\n",
       " 'ocuppation_executive',\n",
       " 'ocuppation_healthcare',\n",
       " 'ocuppation_homemaker',\n",
       " 'ocuppation_lawyer',\n",
       " 'ocuppation_librarian',\n",
       " 'ocuppation_marketing',\n",
       " 'ocuppation_none',\n",
       " 'ocuppation_other',\n",
       " 'ocuppation_programmer',\n",
       " 'ocuppation_retired',\n",
       " 'ocuppation_salesman',\n",
       " 'ocuppation_scientist',\n",
       " 'ocuppation_student',\n",
       " 'ocuppation_technician',\n",
       " 'ocuppation_writer',\n",
       " 'State_AK',\n",
       " 'State_AL',\n",
       " 'State_AP',\n",
       " 'State_AR',\n",
       " 'State_AZ',\n",
       " 'State_CA',\n",
       " 'State_CO',\n",
       " 'State_DC',\n",
       " 'State_DE',\n",
       " 'State_FL',\n",
       " 'State_GA',\n",
       " 'State_HI',\n",
       " 'State_IA',\n",
       " 'State_ID',\n",
       " 'State_IL',\n",
       " 'State_IN',\n",
       " 'State_KS',\n",
       " 'State_KY',\n",
       " 'State_LA',\n",
       " 'State_MD',\n",
       " 'State_MI',\n",
       " 'State_MN',\n",
       " 'State_MO',\n",
       " 'State_MS',\n",
       " 'State_MT',\n",
       " 'State_NC',\n",
       " 'State_ND',\n",
       " 'State_NE',\n",
       " 'State_NM',\n",
       " 'State_NV',\n",
       " 'State_NY',\n",
       " 'State_OH',\n",
       " 'State_OK',\n",
       " 'State_OR',\n",
       " 'State_PA',\n",
       " 'State_SC',\n",
       " 'State_SD',\n",
       " 'State_TN',\n",
       " 'State_TX',\n",
       " 'State_UT',\n",
       " 'State_VA',\n",
       " 'State_WA',\n",
       " 'State_WI',\n",
       " 'State_WV',\n",
       " 'State_WY']"
      ]
     },
     "execution_count": 30,
     "metadata": {},
     "output_type": "execute_result"
    }
   ],
   "source": [
    "columns_to_select"
   ]
  },
  {
   "cell_type": "markdown",
   "metadata": {},
   "source": [
    "Podemos agora selecionar apenas as colunas de usuário do dataset"
   ]
  },
  {
   "cell_type": "code",
   "execution_count": 31,
   "metadata": {},
   "outputs": [
    {
     "data": {
      "text/html": [
       "<div>\n",
       "<style>\n",
       "    .dataframe thead tr:only-child th {\n",
       "        text-align: right;\n",
       "    }\n",
       "\n",
       "    .dataframe thead th {\n",
       "        text-align: left;\n",
       "    }\n",
       "\n",
       "    .dataframe tbody tr th {\n",
       "        vertical-align: top;\n",
       "    }\n",
       "</style>\n",
       "<table border=\"1\" class=\"dataframe\">\n",
       "  <thead>\n",
       "    <tr style=\"text-align: right;\">\n",
       "      <th></th>\n",
       "      <th>age</th>\n",
       "      <th>sex_F</th>\n",
       "      <th>sex_M</th>\n",
       "      <th>user_id</th>\n",
       "      <th>ocuppation_administrator</th>\n",
       "      <th>ocuppation_artist</th>\n",
       "      <th>ocuppation_doctor</th>\n",
       "      <th>ocuppation_educator</th>\n",
       "      <th>ocuppation_engineer</th>\n",
       "      <th>ocuppation_entertainment</th>\n",
       "      <th>...</th>\n",
       "      <th>State_SC</th>\n",
       "      <th>State_SD</th>\n",
       "      <th>State_TN</th>\n",
       "      <th>State_TX</th>\n",
       "      <th>State_UT</th>\n",
       "      <th>State_VA</th>\n",
       "      <th>State_WA</th>\n",
       "      <th>State_WI</th>\n",
       "      <th>State_WV</th>\n",
       "      <th>State_WY</th>\n",
       "    </tr>\n",
       "  </thead>\n",
       "  <tbody>\n",
       "    <tr>\n",
       "      <th>0</th>\n",
       "      <td>28</td>\n",
       "      <td>0</td>\n",
       "      <td>1</td>\n",
       "      <td>244</td>\n",
       "      <td>0</td>\n",
       "      <td>0</td>\n",
       "      <td>0</td>\n",
       "      <td>0</td>\n",
       "      <td>0</td>\n",
       "      <td>0</td>\n",
       "      <td>...</td>\n",
       "      <td>0</td>\n",
       "      <td>0</td>\n",
       "      <td>0</td>\n",
       "      <td>0</td>\n",
       "      <td>0</td>\n",
       "      <td>0</td>\n",
       "      <td>0</td>\n",
       "      <td>0</td>\n",
       "      <td>0</td>\n",
       "      <td>0</td>\n",
       "    </tr>\n",
       "    <tr>\n",
       "      <th>1</th>\n",
       "      <td>44</td>\n",
       "      <td>0</td>\n",
       "      <td>1</td>\n",
       "      <td>298</td>\n",
       "      <td>0</td>\n",
       "      <td>0</td>\n",
       "      <td>0</td>\n",
       "      <td>0</td>\n",
       "      <td>0</td>\n",
       "      <td>0</td>\n",
       "      <td>...</td>\n",
       "      <td>0</td>\n",
       "      <td>0</td>\n",
       "      <td>0</td>\n",
       "      <td>0</td>\n",
       "      <td>0</td>\n",
       "      <td>0</td>\n",
       "      <td>0</td>\n",
       "      <td>0</td>\n",
       "      <td>0</td>\n",
       "      <td>0</td>\n",
       "    </tr>\n",
       "    <tr>\n",
       "      <th>2</th>\n",
       "      <td>26</td>\n",
       "      <td>1</td>\n",
       "      <td>0</td>\n",
       "      <td>253</td>\n",
       "      <td>0</td>\n",
       "      <td>0</td>\n",
       "      <td>0</td>\n",
       "      <td>0</td>\n",
       "      <td>0</td>\n",
       "      <td>0</td>\n",
       "      <td>...</td>\n",
       "      <td>0</td>\n",
       "      <td>0</td>\n",
       "      <td>0</td>\n",
       "      <td>0</td>\n",
       "      <td>0</td>\n",
       "      <td>1</td>\n",
       "      <td>0</td>\n",
       "      <td>0</td>\n",
       "      <td>0</td>\n",
       "      <td>0</td>\n",
       "    </tr>\n",
       "    <tr>\n",
       "      <th>3</th>\n",
       "      <td>23</td>\n",
       "      <td>0</td>\n",
       "      <td>1</td>\n",
       "      <td>305</td>\n",
       "      <td>0</td>\n",
       "      <td>0</td>\n",
       "      <td>0</td>\n",
       "      <td>0</td>\n",
       "      <td>0</td>\n",
       "      <td>0</td>\n",
       "      <td>...</td>\n",
       "      <td>0</td>\n",
       "      <td>0</td>\n",
       "      <td>0</td>\n",
       "      <td>0</td>\n",
       "      <td>0</td>\n",
       "      <td>0</td>\n",
       "      <td>0</td>\n",
       "      <td>0</td>\n",
       "      <td>0</td>\n",
       "      <td>0</td>\n",
       "    </tr>\n",
       "    <tr>\n",
       "      <th>4</th>\n",
       "      <td>42</td>\n",
       "      <td>0</td>\n",
       "      <td>1</td>\n",
       "      <td>6</td>\n",
       "      <td>0</td>\n",
       "      <td>0</td>\n",
       "      <td>0</td>\n",
       "      <td>0</td>\n",
       "      <td>0</td>\n",
       "      <td>0</td>\n",
       "      <td>...</td>\n",
       "      <td>0</td>\n",
       "      <td>0</td>\n",
       "      <td>0</td>\n",
       "      <td>0</td>\n",
       "      <td>0</td>\n",
       "      <td>0</td>\n",
       "      <td>1</td>\n",
       "      <td>0</td>\n",
       "      <td>0</td>\n",
       "      <td>0</td>\n",
       "    </tr>\n",
       "  </tbody>\n",
       "</table>\n",
       "<p>5 rows × 70 columns</p>\n",
       "</div>"
      ],
      "text/plain": [
       "   age  sex_F  sex_M  user_id  ocuppation_administrator  ocuppation_artist  \\\n",
       "0   28      0      1      244                         0                  0   \n",
       "1   44      0      1      298                         0                  0   \n",
       "2   26      1      0      253                         0                  0   \n",
       "3   23      0      1      305                         0                  0   \n",
       "4   42      0      1        6                         0                  0   \n",
       "\n",
       "   ocuppation_doctor  ocuppation_educator  ocuppation_engineer  \\\n",
       "0                  0                    0                    0   \n",
       "1                  0                    0                    0   \n",
       "2                  0                    0                    0   \n",
       "3                  0                    0                    0   \n",
       "4                  0                    0                    0   \n",
       "\n",
       "   ocuppation_entertainment    ...     State_SC  State_SD  State_TN  State_TX  \\\n",
       "0                         0    ...            0         0         0         0   \n",
       "1                         0    ...            0         0         0         0   \n",
       "2                         0    ...            0         0         0         0   \n",
       "3                         0    ...            0         0         0         0   \n",
       "4                         0    ...            0         0         0         0   \n",
       "\n",
       "   State_UT  State_VA  State_WA  State_WI  State_WV  State_WY  \n",
       "0         0         0         0         0         0         0  \n",
       "1         0         0         0         0         0         0  \n",
       "2         0         1         0         0         0         0  \n",
       "3         0         0         0         0         0         0  \n",
       "4         0         0         1         0         0         0  \n",
       "\n",
       "[5 rows x 70 columns]"
      ]
     },
     "execution_count": 31,
     "metadata": {},
     "output_type": "execute_result"
    }
   ],
   "source": [
    "df_user = movies_final[columns_to_select]\n",
    "df_user.head()"
   ]
  },
  {
   "cell_type": "markdown",
   "metadata": {},
   "source": [
    "Como o dataset original registrava todas as avalições de uma mesma pessoa, existem registros duplicados. Devemos agora retirar os registros duplicados"
   ]
  },
  {
   "cell_type": "code",
   "execution_count": 32,
   "metadata": {},
   "outputs": [
    {
     "data": {
      "text/plain": [
       "(100000, 70)"
      ]
     },
     "execution_count": 32,
     "metadata": {},
     "output_type": "execute_result"
    }
   ],
   "source": [
    "df_user.shape"
   ]
  },
  {
   "cell_type": "code",
   "execution_count": 33,
   "metadata": {},
   "outputs": [
    {
     "data": {
      "text/plain": [
       "(943, 70)"
      ]
     },
     "execution_count": 33,
     "metadata": {},
     "output_type": "execute_result"
    }
   ],
   "source": [
    "df_user_final = df_user.drop_duplicates()\n",
    "df_user_final.shape"
   ]
  },
  {
   "cell_type": "markdown",
   "metadata": {},
   "source": [
    "Vamos, finalmente encontrar o usuário mais próximo do `the_chosen_one`"
   ]
  },
  {
   "cell_type": "code",
   "execution_count": 34,
   "metadata": {
    "collapsed": true
   },
   "outputs": [],
   "source": [
    "df_user_ml = df_user_final.drop(\"user_id\", axis=1)\n",
    "\n",
    "the_chosen_one = df_user_ml.loc[0]\n",
    "others = df_user_ml.loc[1:]\n",
    "\n",
    "# Lista de indices\n",
    "indexes = others.index\n",
    "\n",
    "# Variaveis auxiliares para encontrar o de menor distacia\n",
    "index_min = indexes[0]\n",
    "dist_min = dist_n(the_chosen_one,others.loc[index_min])\n",
    "\n",
    "for i in indexes:\n",
    "    some_user = others.loc[i]\n",
    "    dist_local = dist_n(the_chosen_one,some_user)\n",
    "    \n",
    "    if(dist_local<dist_min):\n",
    "        dist_min = dist_local\n",
    "        index_min = i"
   ]
  },
  {
   "cell_type": "markdown",
   "metadata": {},
   "source": [
    "Agora vamos ver a distância dos usuários de mais próximos"
   ]
  },
  {
   "cell_type": "code",
   "execution_count": 35,
   "metadata": {},
   "outputs": [
    {
     "data": {
      "text/plain": [
       "1.0"
      ]
     },
     "execution_count": 35,
     "metadata": {},
     "output_type": "execute_result"
    }
   ],
   "source": [
    "dist_min"
   ]
  },
  {
   "cell_type": "code",
   "execution_count": 36,
   "metadata": {},
   "outputs": [
    {
     "data": {
      "text/plain": [
       "376"
      ]
     },
     "execution_count": 36,
     "metadata": {},
     "output_type": "execute_result"
    }
   ],
   "source": [
    "index_min"
   ]
  },
  {
   "cell_type": "code",
   "execution_count": null,
   "metadata": {
    "collapsed": true
   },
   "outputs": [],
   "source": []
  },
  {
   "cell_type": "code",
   "execution_count": null,
   "metadata": {
    "collapsed": true
   },
   "outputs": [],
   "source": []
  },
  {
   "cell_type": "markdown",
   "metadata": {
    "hideOutput": true
   },
   "source": [
    "\n",
    "## Centróide de um grupo\n",
    "Outro conceito importante para a compreensão do algortimo é o conceito de `centróide`.\n",
    "\n",
    "**Centróide** é um ponto calculado que representa o centro do conjunto. \n",
    "\n",
    "Um cálculo normal de centroide a média dos atributos. \n",
    "\n",
    "Para entender melhor, vamos calcular o centroid dos dados de atributo $X_1$ e $X_2$."
   ]
  },
  {
   "cell_type": "code",
   "execution_count": 37,
   "metadata": {},
   "outputs": [
    {
     "data": {
      "text/html": [
       "<div>\n",
       "<style>\n",
       "    .dataframe thead tr:only-child th {\n",
       "        text-align: right;\n",
       "    }\n",
       "\n",
       "    .dataframe thead th {\n",
       "        text-align: left;\n",
       "    }\n",
       "\n",
       "    .dataframe tbody tr th {\n",
       "        vertical-align: top;\n",
       "    }\n",
       "</style>\n",
       "<table border=\"1\" class=\"dataframe\">\n",
       "  <thead>\n",
       "    <tr style=\"text-align: right;\">\n",
       "      <th></th>\n",
       "      <th>X1</th>\n",
       "      <th>X2</th>\n",
       "    </tr>\n",
       "  </thead>\n",
       "  <tbody>\n",
       "    <tr>\n",
       "      <th>0</th>\n",
       "      <td>1.0</td>\n",
       "      <td>2.0</td>\n",
       "    </tr>\n",
       "    <tr>\n",
       "      <th>1</th>\n",
       "      <td>2.0</td>\n",
       "      <td>1.0</td>\n",
       "    </tr>\n",
       "    <tr>\n",
       "      <th>2</th>\n",
       "      <td>2.0</td>\n",
       "      <td>3.2</td>\n",
       "    </tr>\n",
       "    <tr>\n",
       "      <th>3</th>\n",
       "      <td>3.0</td>\n",
       "      <td>2.5</td>\n",
       "    </tr>\n",
       "    <tr>\n",
       "      <th>4</th>\n",
       "      <td>4.0</td>\n",
       "      <td>1.0</td>\n",
       "    </tr>\n",
       "    <tr>\n",
       "      <th>5</th>\n",
       "      <td>1.2</td>\n",
       "      <td>1.0</td>\n",
       "    </tr>\n",
       "    <tr>\n",
       "      <th>6</th>\n",
       "      <td>0.2</td>\n",
       "      <td>7.3</td>\n",
       "    </tr>\n",
       "  </tbody>\n",
       "</table>\n",
       "</div>"
      ],
      "text/plain": [
       "    X1   X2\n",
       "0  1.0  2.0\n",
       "1  2.0  1.0\n",
       "2  2.0  3.2\n",
       "3  3.0  2.5\n",
       "4  4.0  1.0\n",
       "5  1.2  1.0\n",
       "6  0.2  7.3"
      ]
     },
     "execution_count": 37,
     "metadata": {},
     "output_type": "execute_result"
    }
   ],
   "source": [
    "dados"
   ]
  },
  {
   "cell_type": "markdown",
   "metadata": {},
   "source": [
    "Vamos usar o Método `mean()` da coluna para encontrar a média dos valores"
   ]
  },
  {
   "cell_type": "code",
   "execution_count": 38,
   "metadata": {},
   "outputs": [
    {
     "name": "stdout",
     "output_type": "stream",
     "text": [
      "\n",
      "O centroid dos dados é [[1.9142857142857141],[2.5714285714285716]]\n",
      "\n"
     ]
    }
   ],
   "source": [
    "centroid_x1 = [dados[\"X1\"].mean()]\n",
    "centroid_x2 = [dados[\"X2\"].mean()]\n",
    "print(\"\"\"\n",
    "O centroid dos dados é [{},{}]\n",
    "\"\"\".format(centroid_x1,centroid_x2))"
   ]
  },
  {
   "cell_type": "markdown",
   "metadata": {},
   "source": [
    "Vamos plotar agora o grafico dos pontos para observar o posicionamento do centroid"
   ]
  },
  {
   "cell_type": "code",
   "execution_count": 39,
   "metadata": {},
   "outputs": [
    {
     "data": {
      "text/plain": [
       "[<matplotlib.lines.Line2D at 0x7ff5ec5d3f60>]"
      ]
     },
     "execution_count": 39,
     "metadata": {},
     "output_type": "execute_result"
    },
    {
     "data": {
      "image/png": "[encoded data removed]",
      "text/plain": [
       "<matplotlib.figure.Figure at 0x7ff5ec5d36a0>"
      ]
     },
     "metadata": {},
     "output_type": "display_data"
    }
   ],
   "source": [
    "plt.plot(dados[\"X1\"],dados[\"X2\"],\"ob\")\n",
    "plt.plot(centroid_x1,centroid_x2,\"or\")"
   ]
  },
  {
   "cell_type": "markdown",
   "metadata": {},
   "source": [
    "Parece realmente representar o centro do conjunto"
   ]
  },
  {
   "cell_type": "markdown",
   "metadata": {},
   "source": [
    "## <font color='blue'>Faça uma função que calcule o centróide de todas as colunas do movielens</font>\n",
    "![alt text](https://static.vix.com/pt/sites/default/files/styles/large/public/a/atrasada-relogio-pulso-1116-1400x800.jpg?itok=qv3gUH6U)"
   ]
  },
  {
   "cell_type": "code",
   "execution_count": 40,
   "metadata": {
    "collapsed": true
   },
   "outputs": [],
   "source": [
    "def centroide(df):\n",
    "    return df.mean()"
   ]
  },
  {
   "cell_type": "code",
   "execution_count": 41,
   "metadata": {},
   "outputs": [
    {
     "data": {
      "text/plain": [
       "X1    1.914286\n",
       "X2    2.571429\n",
       "dtype: float64"
      ]
     },
     "execution_count": 41,
     "metadata": {},
     "output_type": "execute_result"
    }
   ],
   "source": [
    "dados.mean()"
   ]
  },
  {
   "cell_type": "code",
   "execution_count": 42,
   "metadata": {
    "collapsed": true
   },
   "outputs": [],
   "source": [
    "def centroide(df):\n",
    "    result = {}\n",
    "    cols = list(df.columns)\n",
    "    for c in cols:\n",
    "        result[c] = df[c].mean()\n",
    "    return result"
   ]
  },
  {
   "cell_type": "code",
   "execution_count": 43,
   "metadata": {},
   "outputs": [
    {
     "data": {
      "text/plain": [
       "{'State_AK': 0.0053022269353128317,\n",
       " 'State_AL': 0.0031813361611876989,\n",
       " 'State_AP': 0.0010604453870625664,\n",
       " 'State_AR': 0.0010604453870625664,\n",
       " 'State_AZ': 0.014846235418875928,\n",
       " 'State_CA': 0.12301166489925769,\n",
       " 'State_CO': 0.021208907741251327,\n",
       " 'State_DC': 0.014846235418875928,\n",
       " 'State_DE': 0.0031813361611876989,\n",
       " 'State_FL': 0.025450689289501591,\n",
       " 'State_GA': 0.020148462354188761,\n",
       " 'State_HI': 0.0021208907741251328,\n",
       " 'State_IA': 0.014846235418875928,\n",
       " 'State_ID': 0.007423117709437964,\n",
       " 'State_IL': 0.053022269353128315,\n",
       " 'State_IN': 0.0095440084835630972,\n",
       " 'State_KS': 0.0042417815482502655,\n",
       " 'State_KY': 0.01166489925768823,\n",
       " 'State_LA': 0.0063626723223753979,\n",
       " 'State_MD': 0.02863202545068929,\n",
       " 'State_MI': 0.024390243902439025,\n",
       " 'State_MN': 0.082714740190880168,\n",
       " 'State_MO': 0.018027571580063628,\n",
       " 'State_MS': 0.0031813361611876989,\n",
       " 'State_MT': 0.0021208907741251328,\n",
       " 'State_NC': 0.020148462354188761,\n",
       " 'State_ND': 0.0021208907741251328,\n",
       " 'State_NE': 0.0063626723223753979,\n",
       " 'State_NM': 0.0021208907741251328,\n",
       " 'State_NV': 0.0031813361611876989,\n",
       " 'State_NY': 0.06362672322375397,\n",
       " 'State_OH': 0.033934252386002124,\n",
       " 'State_OK': 0.0095440084835630972,\n",
       " 'State_OR': 0.021208907741251327,\n",
       " 'State_PA': 0.036055143160127257,\n",
       " 'State_SC': 0.01166489925768823,\n",
       " 'State_SD': 0.0010604453870625664,\n",
       " 'State_TN': 0.012725344644750796,\n",
       " 'State_TX': 0.054082714740190878,\n",
       " 'State_UT': 0.0095440084835630972,\n",
       " 'State_VA': 0.02863202545068929,\n",
       " 'State_WA': 0.025450689289501591,\n",
       " 'State_WI': 0.023329798515376459,\n",
       " 'State_WV': 0.0031813361611876989,\n",
       " 'State_WY': 0.0010604453870625664,\n",
       " 'age': 34.051961823966067,\n",
       " 'ocuppation_administrator': 0.083775185577942737,\n",
       " 'ocuppation_artist': 0.029692470837751856,\n",
       " 'ocuppation_doctor': 0.007423117709437964,\n",
       " 'ocuppation_educator': 0.1007423117709438,\n",
       " 'ocuppation_engineer': 0.071049840933191943,\n",
       " 'ocuppation_entertainment': 0.019088016967126194,\n",
       " 'ocuppation_executive': 0.033934252386002124,\n",
       " 'ocuppation_healthcare': 0.016967126193001062,\n",
       " 'ocuppation_homemaker': 0.007423117709437964,\n",
       " 'ocuppation_lawyer': 0.012725344644750796,\n",
       " 'ocuppation_librarian': 0.054082714740190878,\n",
       " 'ocuppation_marketing': 0.027571580063626724,\n",
       " 'ocuppation_none': 0.0095440084835630972,\n",
       " 'ocuppation_other': 0.11134676564156946,\n",
       " 'ocuppation_programmer': 0.069989395546129374,\n",
       " 'ocuppation_retired': 0.014846235418875928,\n",
       " 'ocuppation_salesman': 0.012725344644750796,\n",
       " 'ocuppation_scientist': 0.032873806998939555,\n",
       " 'ocuppation_student': 0.20784729586426298,\n",
       " 'ocuppation_technician': 0.02863202545068929,\n",
       " 'ocuppation_writer': 0.047720042417815481,\n",
       " 'sex_F': 0.28950159066808057,\n",
       " 'sex_M': 0.71049840933191943,\n",
       " 'user_id': 472.0}"
      ]
     },
     "execution_count": 43,
     "metadata": {},
     "output_type": "execute_result"
    }
   ],
   "source": [
    "centroide(df_user_final)"
   ]
  },
  {
   "cell_type": "markdown",
   "metadata": {
    "collapsed": true
   },
   "source": [
    "Agora que sabemos encontrar o centróide de um conjunto, vamos ao conceito do algoritmo de `K-means`!\n",
    "\n",
    "## O algortimo\n",
    "\n",
    "O objetivo do algoritmo é : Encontrar K clusters (agrupamentos) dos dados.\n",
    "\n",
    "Passo-a-passo: \n",
    "\n",
    "    1 . Iniciamos K pontos aleatórios que serão considerados os centróides dos grupos.\n",
    "    \n",
    "    2 . A matriz de distâncias é montada. \n",
    "    \n",
    "  Supondo que queremos montar `K` grupos e temos `n` dados \n",
    "    \n",
    "|       | $C_1$      | $C_2$      | ... |   $C_k$    |\n",
    "|-------|------------|------------|-----|------------|\n",
    "| $u_1$ |d($u_1$,$C_1$)|d($u_1$,$C_2$)| ... |d($u_1$,$C_k$)|\n",
    "| $u_2$ |d($u_2$,$C_1$)|d($u_2$,$C_2$)| ... |d($u_2$,$C_k$)|\n",
    "|  ...  |    ...     |     ...    | ... |     ...    |\n",
    "| $u_n$ |d($u_n$,$C_1$)|d($u_n$,$C_2$)| ... |d($u_n$,$C_k$)|\n",
    "\n",
    "   Cada dado $u_i$ é considerado do cluster com menor distância do centróide\n",
    "    \n",
    "   3 . O Centróide real dos dados dos grupos é calculado\n",
    "   \n",
    "   4 . A matriz de distância é feita de novo, considerando os centroides calculados no passo 3.\n",
    "       \n",
    "       4.1 . Se algum dado mudar de cluster, o algoritmo volta ao passo 2, considerando esses centroides como os K centroides \n",
    "       \n",
    "       4.2 . Se nenhum dado mudar de cluster, o algoritmo assume que encontrou os clusters!\n",
    "\n",
    "\n",
    "![km](https://upload.wikimedia.org/wikipedia/commons/e/ea/K-means_convergence.gif)"
   ]
  },
  {
   "cell_type": "markdown",
   "metadata": {},
   "source": [
    "Vamos agora criar os cluster dos dados fictícios "
   ]
  },
  {
   "cell_type": "code",
   "execution_count": 44,
   "metadata": {
    "collapsed": true
   },
   "outputs": [],
   "source": [
    "from sklearn.cluster import KMeans\n",
    "\n",
    "km = KMeans(n_clusters=3, random_state=0)\n",
    "km = km.fit(dados)"
   ]
  },
  {
   "cell_type": "markdown",
   "metadata": {},
   "source": [
    "Vamos agora pegar os centróides do modelo e plotar"
   ]
  },
  {
   "cell_type": "code",
   "execution_count": 45,
   "metadata": {
    "collapsed": true
   },
   "outputs": [],
   "source": [
    "centers = km.cluster_centers_\n",
    "c_to_plot = centers.T"
   ]
  },
  {
   "cell_type": "code",
   "execution_count": 46,
   "metadata": {},
   "outputs": [
    {
     "data": {
      "text/plain": [
       "[<matplotlib.lines.Line2D at 0x7ff5e7121320>]"
      ]
     },
     "execution_count": 46,
     "metadata": {},
     "output_type": "execute_result"
    },
    {
     "data": {
      "image/png": "[encoded data removed]",
      "text/plain": [
       "<matplotlib.figure.Figure at 0x7ff5e7121358>"
      ]
     },
     "metadata": {},
     "output_type": "display_data"
    }
   ],
   "source": [
    "from matplotlib import pyplot as plt\n",
    "plt.plot(dados[\"X1\"],dados[\"X2\"],'ob')\n",
    "plt.plot(c_to_plot[0],c_to_plot[1],'or')"
   ]
  },
  {
   "cell_type": "markdown",
   "metadata": {},
   "source": [
    "Vamos plotar agora cada cluster encontrado"
   ]
  },
  {
   "cell_type": "code",
   "execution_count": 47,
   "metadata": {
    "collapsed": true
   },
   "outputs": [],
   "source": [
    "def plot_clusters (df,km_model,colors=[\"r\",\"b\",\"g\"],centroid_color = \"k\"):\n",
    "    df_matrix = df.as_matrix()\n",
    "    lines = df_matrix.shape[0]\n",
    "    print(lines)\n",
    "    labels = km_model.labels_\n",
    "    for l in range(lines):\n",
    "        label = labels[l]\n",
    "        x = [df_matrix[l][0]]\n",
    "        y = [df_matrix[l][1]]\n",
    "\n",
    "        plt.plot(x,y,\"o\"+colors[label])\n",
    "        \n",
    "    centroides_t = km_model.cluster_centers_.T\n",
    "    plt.plot(centroides_t[0],centroides_t[1],\"*\"+centroid_color)"
   ]
  },
  {
   "cell_type": "code",
   "execution_count": 48,
   "metadata": {},
   "outputs": [
    {
     "name": "stdout",
     "output_type": "stream",
     "text": [
      "7\n"
     ]
    },
    {
     "data": {
      "image/png": "[encoded data removed]",
      "text/plain": [
       "<matplotlib.figure.Figure at 0x7ff5e6567358>"
      ]
     },
     "metadata": {},
     "output_type": "display_data"
    }
   ],
   "source": [
    "plot_clusters(dados,km,centroid_color=\"y\")"
   ]
  },
  {
   "cell_type": "markdown",
   "metadata": {},
   "source": [
    "## <font color='blue'>Apliquem o K-Means aos dados de usuário.</font>\n",
    "![alt text](https://static.vix.com/pt/sites/default/files/styles/large/public/a/atrasada-relogio-pulso-1116-1400x800.jpg?itok=qv3gUH6U)\n",
    "Contem a quantidade de dados em cada cluster.\n",
    "\n",
    "Veja a distância entre os clusters (usando os centróides)"
   ]
  },
  {
   "cell_type": "code",
   "execution_count": 49,
   "metadata": {
    "collapsed": true
   },
   "outputs": [],
   "source": [
    "df_user_ml = df_user_final.drop(\"user_id\", axis=1)"
   ]
  },
  {
   "cell_type": "code",
   "execution_count": 50,
   "metadata": {
    "collapsed": true
   },
   "outputs": [],
   "source": [
    "km_users = KMeans(n_clusters=3,random_state=0)\n",
    "km_users = km_users.fit(df_user_ml)"
   ]
  },
  {
   "cell_type": "code",
   "execution_count": 51,
   "metadata": {},
   "outputs": [
    {
     "data": {
      "text/plain": [
       "label\n",
       "0    377\n",
       "1    338\n",
       "2    228\n",
       "dtype: int64"
      ]
     },
     "execution_count": 51,
     "metadata": {},
     "output_type": "execute_result"
    }
   ],
   "source": [
    "labels = pandas.DataFrame(km_users.labels_,columns=[\"label\"])\n",
    "labels.groupby(\"label\").size()"
   ]
  },
  {
   "cell_type": "code",
   "execution_count": 52,
   "metadata": {},
   "outputs": [
    {
     "name": "stdout",
     "output_type": "stream",
     "text": [
      "\n",
      "D(c1,c2)=12.257063642809737;\n",
      "D(c1,c3)=28.905591121793687;\n",
      "D(c2,c3)=16.652380985025722;\n",
      "\n"
     ]
    }
   ],
   "source": [
    "centroides = km_users.cluster_centers_\n",
    "d12 = dist_n(centroides[0],centroides[1])\n",
    "d13 = dist_n(centroides[0],centroides[2])\n",
    "d23 = dist_n(centroides[1],centroides[2])\n",
    "\n",
    "print(\"\"\"\n",
    "D(c1,c2)={};\n",
    "D(c1,c3)={};\n",
    "D(c2,c3)={};\n",
    "\"\"\".format(d12,d13,d23))"
   ]
  },
  {
   "cell_type": "code",
   "execution_count": 53,
   "metadata": {},
   "outputs": [
    {
     "data": {
      "text/plain": [
       "943"
      ]
     },
     "execution_count": 53,
     "metadata": {},
     "output_type": "execute_result"
    }
   ],
   "source": [
    "labels.size"
   ]
  },
  {
   "cell_type": "markdown",
   "metadata": {},
   "source": [
    "Temos 69 dimensões. Não conseguimos plotar tantas dimensões =(\n",
    "\n",
    "Muitas dimensões também podem causar problemas no treinamento de alguns algoritmos. \n",
    "\n",
    "Vamos agora aprender um algoritmo de redução de dimensão"
   ]
  },
  {
   "cell_type": "markdown",
   "metadata": {},
   "source": [
    "# 4 - PCA\n",
    "\n",
    "PCA (principal component analysis), é um algortimo de aprendizado não-supervisionado, que é usado para reduzir as dimensões dos dados.\n",
    "\n",
    "Vamos ver um exemplo de diminuição de dimenção de 3D -> 2D"
   ]
  },
  {
   "cell_type": "code",
   "execution_count": 54,
   "metadata": {
    "collapsed": true
   },
   "outputs": [],
   "source": [
    "m_3d = [[1,2,3],\n",
    "           [1.2,0.2,3.4],\n",
    "           [9,1,2],\n",
    "           [6,5,4],\n",
    "           [7,2,4],\n",
    "           [2,6,4],\n",
    "           [4,7,8],\n",
    "           [3,4,7]]\n",
    "dados_3d = pandas.DataFrame(m_3d,columns=[\"X1\",\"X2\",\"X3\"])\n",
    "#dados_3d"
   ]
  },
  {
   "cell_type": "code",
   "execution_count": 55,
   "metadata": {
    "scrolled": true
   },
   "outputs": [
    {
     "data": {
      "text/plain": [
       "<mpl_toolkits.mplot3d.art3d.Path3DCollection at 0x7ff5e6491438>"
      ]
     },
     "execution_count": 55,
     "metadata": {},
     "output_type": "execute_result"
    },
    {
     "data": {
      "image/png": "[encoded data removed]",
      "text/plain": [
       "<matplotlib.figure.Figure at 0x7ff5e6501d68>"
      ]
     },
     "metadata": {},
     "output_type": "display_data"
    }
   ],
   "source": [
    "from mpl_toolkits import mplot3d\n",
    "\n",
    "\n",
    "fig = plt.figure()\n",
    "ax = plt.axes(projection='3d')\n",
    "\n",
    "\n",
    "ax.scatter3D(dados_3d[\"X1\"],dados_3d[\"X2\"],dados_3d[\"X3\"])"
   ]
  },
  {
   "cell_type": "markdown",
   "metadata": {},
   "source": [
    "Os dados em 3D já podem dificultar a interpretação. \n",
    "\n",
    "**Iremos então diminuir para duas dimensões.**"
   ]
  },
  {
   "cell_type": "code",
   "execution_count": 56,
   "metadata": {
    "collapsed": true
   },
   "outputs": [],
   "source": [
    "from sklearn.decomposition import PCA\n",
    "pca_model = PCA(n_components=2)\n",
    "d_2d = pca_model.fit_transform(dados_3d)"
   ]
  },
  {
   "cell_type": "code",
   "execution_count": 57,
   "metadata": {},
   "outputs": [
    {
     "data": {
      "text/html": [
       "<div>\n",
       "<style>\n",
       "    .dataframe thead tr:only-child th {\n",
       "        text-align: right;\n",
       "    }\n",
       "\n",
       "    .dataframe thead th {\n",
       "        text-align: left;\n",
       "    }\n",
       "\n",
       "    .dataframe tbody tr th {\n",
       "        vertical-align: top;\n",
       "    }\n",
       "</style>\n",
       "<table border=\"1\" class=\"dataframe\">\n",
       "  <thead>\n",
       "    <tr style=\"text-align: right;\">\n",
       "      <th></th>\n",
       "      <th>z1</th>\n",
       "      <th>z2</th>\n",
       "    </tr>\n",
       "  </thead>\n",
       "  <tbody>\n",
       "    <tr>\n",
       "      <th>0</th>\n",
       "      <td>-0.713962</td>\n",
       "      <td>3.618329</td>\n",
       "    </tr>\n",
       "    <tr>\n",
       "      <th>1</th>\n",
       "      <td>0.230960</td>\n",
       "      <td>4.385326</td>\n",
       "    </tr>\n",
       "    <tr>\n",
       "      <th>2</th>\n",
       "      <td>5.800960</td>\n",
       "      <td>-1.218929</td>\n",
       "    </tr>\n",
       "    <tr>\n",
       "      <th>3</th>\n",
       "      <td>0.584256</td>\n",
       "      <td>-2.123542</td>\n",
       "    </tr>\n",
       "    <tr>\n",
       "      <th>4</th>\n",
       "      <td>2.931190</td>\n",
       "      <td>-1.085438</td>\n",
       "    </tr>\n",
       "    <tr>\n",
       "      <th>5</th>\n",
       "      <td>-2.714040</td>\n",
       "      <td>0.183050</td>\n",
       "    </tr>\n",
       "    <tr>\n",
       "      <th>6</th>\n",
       "      <td>-3.782928</td>\n",
       "      <td>-3.303447</td>\n",
       "    </tr>\n",
       "    <tr>\n",
       "      <th>7</th>\n",
       "      <td>-2.336436</td>\n",
       "      <td>-0.455349</td>\n",
       "    </tr>\n",
       "  </tbody>\n",
       "</table>\n",
       "</div>"
      ],
      "text/plain": [
       "         z1        z2\n",
       "0 -0.713962  3.618329\n",
       "1  0.230960  4.385326\n",
       "2  5.800960 -1.218929\n",
       "3  0.584256 -2.123542\n",
       "4  2.931190 -1.085438\n",
       "5 -2.714040  0.183050\n",
       "6 -3.782928 -3.303447\n",
       "7 -2.336436 -0.455349"
      ]
     },
     "execution_count": 57,
     "metadata": {},
     "output_type": "execute_result"
    }
   ],
   "source": [
    "dados_2d = pandas.DataFrame(d_2d,columns=[\"z1\",\"z2\"])\n",
    "dados_2d"
   ]
  },
  {
   "cell_type": "code",
   "execution_count": 58,
   "metadata": {},
   "outputs": [
    {
     "data": {
      "text/html": [
       "<div>\n",
       "<style>\n",
       "    .dataframe thead tr:only-child th {\n",
       "        text-align: right;\n",
       "    }\n",
       "\n",
       "    .dataframe thead th {\n",
       "        text-align: left;\n",
       "    }\n",
       "\n",
       "    .dataframe tbody tr th {\n",
       "        vertical-align: top;\n",
       "    }\n",
       "</style>\n",
       "<table border=\"1\" class=\"dataframe\">\n",
       "  <thead>\n",
       "    <tr style=\"text-align: right;\">\n",
       "      <th></th>\n",
       "      <th>X1</th>\n",
       "      <th>X2</th>\n",
       "      <th>X3</th>\n",
       "    </tr>\n",
       "  </thead>\n",
       "  <tbody>\n",
       "    <tr>\n",
       "      <th>0</th>\n",
       "      <td>1.0</td>\n",
       "      <td>2.0</td>\n",
       "      <td>3.0</td>\n",
       "    </tr>\n",
       "    <tr>\n",
       "      <th>1</th>\n",
       "      <td>1.2</td>\n",
       "      <td>0.2</td>\n",
       "      <td>3.4</td>\n",
       "    </tr>\n",
       "    <tr>\n",
       "      <th>2</th>\n",
       "      <td>9.0</td>\n",
       "      <td>1.0</td>\n",
       "      <td>2.0</td>\n",
       "    </tr>\n",
       "    <tr>\n",
       "      <th>3</th>\n",
       "      <td>6.0</td>\n",
       "      <td>5.0</td>\n",
       "      <td>4.0</td>\n",
       "    </tr>\n",
       "    <tr>\n",
       "      <th>4</th>\n",
       "      <td>7.0</td>\n",
       "      <td>2.0</td>\n",
       "      <td>4.0</td>\n",
       "    </tr>\n",
       "    <tr>\n",
       "      <th>5</th>\n",
       "      <td>2.0</td>\n",
       "      <td>6.0</td>\n",
       "      <td>4.0</td>\n",
       "    </tr>\n",
       "    <tr>\n",
       "      <th>6</th>\n",
       "      <td>4.0</td>\n",
       "      <td>7.0</td>\n",
       "      <td>8.0</td>\n",
       "    </tr>\n",
       "    <tr>\n",
       "      <th>7</th>\n",
       "      <td>3.0</td>\n",
       "      <td>4.0</td>\n",
       "      <td>7.0</td>\n",
       "    </tr>\n",
       "  </tbody>\n",
       "</table>\n",
       "</div>"
      ],
      "text/plain": [
       "    X1   X2   X3\n",
       "0  1.0  2.0  3.0\n",
       "1  1.2  0.2  3.4\n",
       "2  9.0  1.0  2.0\n",
       "3  6.0  5.0  4.0\n",
       "4  7.0  2.0  4.0\n",
       "5  2.0  6.0  4.0\n",
       "6  4.0  7.0  8.0\n",
       "7  3.0  4.0  7.0"
      ]
     },
     "execution_count": 58,
     "metadata": {},
     "output_type": "execute_result"
    }
   ],
   "source": [
    "dados_3d"
   ]
  },
  {
   "cell_type": "code",
   "execution_count": 59,
   "metadata": {
    "scrolled": true
   },
   "outputs": [
    {
     "data": {
      "text/plain": [
       "[<matplotlib.lines.Line2D at 0x7ff5e6559fd0>]"
      ]
     },
     "execution_count": 59,
     "metadata": {},
     "output_type": "execute_result"
    },
    {
     "data": {
      "image/png": "[encoded data removed]",
      "text/plain": [
       "<matplotlib.figure.Figure at 0x7ff5e6450550>"
      ]
     },
     "metadata": {},
     "output_type": "display_data"
    }
   ],
   "source": [
    "plt.plot(dados_2d[\"z1\"],dados_2d[\"z2\"],\"*b\")"
   ]
  },
  {
   "cell_type": "markdown",
   "metadata": {},
   "source": [
    "<p class=\"atencao\"> Importante!</p> \n",
    "\n",
    "<p class=\"importante\"> Esses dados não são diretamente significativos! Eles representam as relações que os dados tem entre si em menos dimensões! </p>"
   ]
  },
  {
   "cell_type": "markdown",
   "metadata": {},
   "source": [
    "## <font color='blue'>Vamos diminuir as dimensões dos dados de usuário para 2 dimensões e plotar os dados</font>\n",
    "![alt text](https://static.vix.com/pt/sites/default/files/styles/large/public/a/atrasada-relogio-pulso-1116-1400x800.jpg?itok=qv3gUH6U)"
   ]
  },
  {
   "cell_type": "code",
   "execution_count": 60,
   "metadata": {},
   "outputs": [
    {
     "data": {
      "text/plain": [
       "[<matplotlib.lines.Line2D at 0x7ff5e6401c88>]"
      ]
     },
     "execution_count": 60,
     "metadata": {},
     "output_type": "execute_result"
    },
    {
     "data": {
      "image/png": "[encoded data removed]",
      "text/plain": [
       "<matplotlib.figure.Figure at 0x7ff5ec514ac8>"
      ]
     },
     "metadata": {},
     "output_type": "display_data"
    }
   ],
   "source": [
    "user_pca = PCA(n_components=2)\n",
    "user_2d = user_pca.fit_transform(df_user_ml)\n",
    "\n",
    "user_2d_to_plot = user_2d.T\n",
    "plt.plot(user_2d_to_plot[0],user_2d_to_plot[1],\".b\")"
   ]
  },
  {
   "cell_type": "code",
   "execution_count": 61,
   "metadata": {
    "scrolled": true
   },
   "outputs": [
    {
     "data": {
      "image/png": "[encoded data removed]",
      "text/plain": [
       "<matplotlib.figure.Figure at 0x7ff5e64fceb8>"
      ]
     },
     "metadata": {},
     "output_type": "display_data"
    }
   ],
   "source": [
    "# Cores por label\n",
    "colors=[\"r\",\"g\",\"b\"]\n",
    "\n",
    "# Numero de usuários\n",
    "lines = user_2d.shape[0]\n",
    "\n",
    "# Labels dos usuários\n",
    "labels = km_users.labels_\n",
    "\n",
    "# incluindo pontos no gráfico\n",
    "for l in range(lines):\n",
    "    label = labels[l]\n",
    "    x = [user_2d[l][0]]\n",
    "    y = [user_2d[l][1]]\n",
    "\n",
    "    plt.plot(x,y,\"o\"+colors[label])\n",
    "        "
   ]
  },
  {
   "cell_type": "code",
   "execution_count": null,
   "metadata": {
    "collapsed": true
   },
   "outputs": [],
   "source": []
  }
 ],
 "metadata": {
  "hide_code_all_hidden": false,
  "kernelspec": {
   "display_name": "Python 3",
   "language": "python",
   "name": "python3"
  },
  "language_info": {
   "codemirror_mode": {
    "name": "ipython",
    "version": 3
   },
   "file_extension": ".py",
   "mimetype": "text/x-python",
   "name": "python",
   "nbconvert_exporter": "python",
   "pygments_lexer": "ipython3",
   "version": "3.7.0"
  }
 },
 "nbformat": 4,
 "nbformat_minor": 2
}
